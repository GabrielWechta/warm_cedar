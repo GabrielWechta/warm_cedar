{
 "cells": [
  {
   "cell_type": "markdown",
   "metadata": {},
   "source": [
    "# Lista 1\n",
    "\n",
    "## Kurs wybranego jÄzyka programowania (Python)\n",
    "\n",
    "Wszystkie rozwiÄ",
    "zania proszÄ wpisaÄ w tym notatniku poniĹźej treĹci zadaĹ. Zadania z `*` to zadania dodatkowe."
   ]
  },
  {
   "cell_type": "markdown",
   "metadata": {},
   "source": [
    "## Zadanie 1 _(5pt)_\n",
    "\n",
    "Napisz funkcjÄ, ktĂłry wyĹwietla trĂłjkÄ",
    "t Pascala o zadanej wysokoĹci\n",
    "```\n",
    "                1\n",
    "              1   1\n",
    "            1   2   1\n",
    "          1   3   3   1\n",
    "        1   4   6   4   1\n",
    "      .....................\n",
    "```"
   ]
  },
  {
   "cell_type": "code",
   "execution_count": 5,
   "metadata": {},
   "outputs": [
    {
     "name": "stdout",
     "output_type": "stream",
     "text": [
      "     1 \n",
      "    1 1 \n",
      "   1 2 1 \n",
      "  1 3 3 1 \n",
      " 1 4 6 4 1 \n"
     ]
    }
   ],
   "source": [
    "def pascal_triangle(n):\n",
    "    tab = []\n",
    "    for i in range(n):\n",
    "        tab.append([])\n",
    "        tab[i].append(1)\n",
    "        for j in range(1, i):\n",
    "            tab[i].append(tab[i - 1][j - 1] + tab[i - 1][j])\n",
    "        if(n != 0):\n",
    "            tab[i].append(1)\n",
    "    for i in range(n):\n",
    "        print(\" \" * (n - i), end = \"\")\n",
    "        for j in range(0, i + 1):\n",
    "            print(tab[i][j], end = \" \")\n",
    "        print()\n",
    "\n",
    "pascal_triangle(5)\n"
   ]
  },
  {
   "cell_type": "markdown",
   "metadata": {},
   "source": [
    "## Zadanie 2 _(5pt)_\n",
    "\n",
    "Napisz funkcjÄ `primes(n)` zwracajÄ",
    "ca listÄ liczb pierwszych nie wiÄkszych niĹź $n$ np.\n",
    "\n",
    "```\n",
    "In [ ]:   primes(6)\n",
    "Out [ ]: [2, 3, 5]\n",
    "```"
   ]
  },
  {
   "cell_type": "code",
   "execution_count": 38,
   "metadata": {},
   "outputs": [
    {
     "name": "stdout",
     "output_type": "stream",
     "text": [
      "[2, 3, 5, 7, 11]\n"
     ]
    }
   ],
   "source": [
    "import math\n",
    "def is_prime(n): \n",
    "    if n <= 1: \n",
    "        return False\n",
    "  \n",
    "    for i in range(2, 1 + math.floor(math.sqrt(n))): \n",
    "        if n % i == 0: \n",
    "            return False\n",
    "    return True\n",
    "\n",
    "def primes(n):\n",
    "    tab = []\n",
    "    for number in range(n+1):\n",
    "        if is_prime(number):\n",
    "            tab.append(number)\n",
    "    print(tab)\n",
    "        \n",
    "primes(11)\n"
   ]
  },
  {
   "cell_type": "markdown",
   "metadata": {},
   "source": [
    "## Zadanie 3 _(5pt)_\n",
    "\n",
    "Napisz funkcje, ktĂłra usuwa wszystkie powtarzajÄ",
    "ce siÄ elementy z listy (tak, Ĺźe kaĹźdy element wystÄpuje tylko raz) np. z listy `[1,1,2,2,2,3,3,5,5,5,4,4,4,0]` dostajemy `[1,2,3,5,4,0]`."
   ]
  },
  {
   "cell_type": "code",
   "execution_count": 57,
   "metadata": {},
   "outputs": [
    {
     "name": "stdout",
     "output_type": "stream",
     "text": [
      "[1, 2, 3, 5, 4, 0]\n",
      "[1, 2, 3, 5, 4, 0]\n"
     ]
    }
   ],
   "source": [
    "def repeat_annihilation(tab):\n",
    "    fixed = list(dict.fromkeys(tab))\n",
    "    print(fixed)\n",
    "    \n",
    "def repeat_annihilation_V2(tab):\n",
    "    fixed = []\n",
    "    for i in tab:\n",
    "        if i not in fixed: fixed.append(i)\n",
    "    print(fixed)\n",
    "\n",
    "tab = [1,1,2,2,2,3,3,5,5,5,4,4,4,0]\n",
    "repeat_annihilation(tab)\n",
    "repeat_annihilation_V2(tab)"
   ]
  },
  {
   "cell_type": "markdown",
   "metadata": {},
   "source": [
    "## Zadanie 4 _(10pt)_\n",
    "\n",
    "Napisz funkcjÄ `prime_factors(n)`, ktĂłra rozkĹada $n$ na czynniki pierwsze i jako wynik wraca listÄ par $[(p_1,\\alpha_1), (p_2,\\alpha_2), \\ldots, (p_k, \\alpha_k)]$ takÄ",
    ", Ĺźe $p_1^{\\alpha_1}p_2^{\\alpha_2}\\ldots p_k^{\\alpha_k}$.\n"
   ]
  },
  {
   "cell_type": "code",
   "execution_count": null,
   "metadata": {},
   "outputs": [],
   "source": [
    "def prime_factors(n): \n",
    "    alfa = 0\n",
    "    lis = []\n",
    "    while n % 2 == 0: \n",
    "        n = n / 2\n",
    "        alfa += 1\n",
    "        \n",
    "    if alfa > 0: lis.append(tuple((2, alfa)))\n",
    "\n",
    "    for i in range(3,int(math.sqrt(n))+1,2): \n",
    "        alfa = 0\n",
    "        while n % i == 0: \n",
    "            n = n / i \n",
    "            alfa += 1\n",
    "        if alfa > 0: lis.append(tuple((int(i), alfa)))\n",
    "              \n",
    "    if n > 2: \n",
    "        lis.append(tuple((int(n), 1))) \n",
    "    print(lis)\n",
    "    \n",
    "prime_factors(68)"
   ]
  },
  {
   "cell_type": "markdown",
   "metadata": {},
   "source": [
    "## Zadanie 5 _(10pt)_\n",
    "\n",
    "Napisz funkcjÄ `fraczero(n)` liczÄ",
    "cÄ",
    " silnie $n!$ dla $n$ od $0$ do $10000$ oraz jako wynik wraca liczbÄ zer na koĹcu $n!$."
   ]
  },
  {
   "cell_type": "code",
   "execution_count": 95,
   "metadata": {},
   "outputs": [
    {
     "name": "stdout",
     "output_type": "stream",
     "text": [
      "20 :  4\n",
      "Wrong number\n"
     ]
    }
   ],
   "source": [
    "def fraczero(n):\n",
    "    if 0 <= n <= 10000:\n",
    "        factorial = 1\n",
    "        for i in range(2,n+1):\n",
    "            factorial *= i\n",
    "\n",
    "        factorial_zeros = 0\n",
    "\n",
    "        while factorial % 10 == 0:\n",
    "            factorial //= 10\n",
    "            factorial_zeros += 1\n",
    "\n",
    "\n",
    "        print(n, \": \", factorial_zeros)\n",
    "    else: print(\"Wrong number\")\n",
    "        \n",
    "fraczero(20)\n",
    "fraczero(-2)"
   ]
  },
  {
   "cell_type": "markdown",
   "metadata": {},
   "source": [
    "## Zadanie 6 _(10pt)_\n",
    "\n",
    "Napisz program, ktĂłry generuje liczbÄ $20$ liczb losowych (rozkĹad jednostajny) od $1$ do $100$\n",
    "* WyĹwietl listÄ wygenerowanych liczb\n",
    "* WyĹwietl ĹredniÄ",
    "\n",
    "* WyĹwietl najwiÄkszÄ",
    " i najmniejszÄ",
    " wartoĹÄ\n",
    "* WyĹwietl drugÄ",
    " najwiÄkszÄ",
    " i drugÄ",
    " najmniejszÄ",
    " wartoĹÄ na liĹcie\n",
    "* WyĹwietl ile jest liczb parzystych na liĹcie\n",
    " "
   ]
  },
  {
   "cell_type": "code",
   "execution_count": 21,
   "metadata": {},
   "outputs": [
    {
     "name": "stdout",
     "output_type": "stream",
     "text": [
      "[ 1 94 74  1 34  2 28 35 16 96 71 29 79 65  5 62 48  1 79 96]\n",
      "average: 45.8\n",
      "min: 1\n",
      "max: 96\n",
      "2nd min: 1\n",
      "2nd max: 96\n",
      "evens: 10\n"
     ]
    }
   ],
   "source": [
    "import numpy as np\n",
    "average = 0\n",
    "even = 0\n",
    "data = np.random.randint(1,100,size=20)\n",
    "for number in data:\n",
    "    average += number\n",
    "    if number % 2 == 0: even += 1\n",
    "average = average/20\n",
    "print(data)\n",
    "print(\"average:\", average)\n",
    "print(\"min:\", min(data))\n",
    "print(\"max:\", max(data))\n",
    "data.sort()\n",
    "length = len(data)\n",
    "print(\"2nd min:\", data[1])\n",
    "print(\"2nd max:\", data[length - 2])\n",
    "print(\"evens:\", even)\n"
   ]
  },
  {
   "cell_type": "markdown",
   "metadata": {},
   "source": [
    "## Zadanie 7 _(10pt)_\n",
    "\n",
    "ZaĹĂłĹźmy, Ĺźe mamy nastÄpujÄ",
    "cÄ",
    " listÄ: `L = ['aababacaa', 'cabaabcca', 'aaabbcbacb', 'acababbaab', ...]` wygenerowanÄ",
    " losowo tzn. lista zawiera losowe ciÄ",
    "gi znakĂłw o zadanej dĹugoĹci z liter `'a'`, `'b'` i `'c'`. Takie wzorce wystÄpujÄ",
    " w wielu miejscach np. sekwencje DNA. UĹźytkownik zawiera swĂłj (wzorzec) ciÄ",
    "g znakĂłw z literami i pustymi miejscami oznaczonymi przez `'*'` np. `\"a**a******\"`. Wykorzystaj sĹownik z kluczami zawierajÄ",
    "cymi indeksy znakĂłw rĂłĹźnych od `'*'` i wartoĹciami liter z wzorca. Napisz program, ktĂłry znajduje wszystkie sekwencje z listy, ktĂłre pasuje do podanego wzorca."
   ]
  },
  {
   "cell_type": "code",
   "execution_count": 39,
   "metadata": {},
   "outputs": [
    {
     "name": "stdout",
     "output_type": "stream",
     "text": [
      "['aababacaa']\n",
      "['aababacaa', 'aaabbcbacb', 'acababbaab']\n",
      "['aaabbcbacb']\n"
     ]
    }
   ],
   "source": [
    "def completely(dic, piece):\n",
    "    for x in dic:\n",
    "        if dic[x] != piece[x]: return False\n",
    "    return True\n",
    "    \n",
    "def parent_test(dna, li):\n",
    "    dic = {}\n",
    "    answer = []\n",
    "    position = 0\n",
    "    for nucleotide in dna:\n",
    "        if nucleotide != \"*\": dic[position] = nucleotide\n",
    "        position += 1\n",
    "    for i in range(len(li)):\n",
    "        if (completely(dic, li[i])) == True: answer.append(li[i])\n",
    "    print(answer)\n",
    "\n",
    "li = ['aababacaa', 'cabaabcca', 'aaabbcbacb', 'acababbaab']\n",
    "parent_test(\"a**a**c**\", li)\n",
    "parent_test(\"a********\", li)\n",
    "parent_test(\"aaabbcbacb\", li)"
   ]
  },
  {
   "cell_type": "markdown",
   "metadata": {},
   "source": [
    "## Zadanie 8 _(10pt)_\n",
    "\n",
    "Napisz program, ktĂłry konwerteruje liczby rzymskie na liczby arabskie. Do zapisu liczb rzymskich uĹźywa\n",
    "siÄ 7 liter: `I=1`, `V=5`, `X=10`, `L=50`, `C=100`, `D=500`, `M=1000`. Opis algorytmu zamiany z i na system rzymski moĹźna znaleĹşÄ np. [tutaj](http://www.algorytm.org/algorytmy-arytmetyczne/zamiana-z-i-na-system-rzymski.html)"
   ]
  },
  {
   "cell_type": "code",
   "execution_count": 1,
   "metadata": {},
   "outputs": [
    {
     "name": "stdout",
     "output_type": "stream",
     "text": [
      "2910\n"
     ]
    }
   ],
   "source": [
    "def toArabic(quovadis):\n",
    "    roman = {'I': 1, 'V': 5, 'X': 10, 'L': 50, 'C': 100, 'D': 500, 'M': 1000}\n",
    "    val = 0\n",
    "    for i in range(len(quovadis)):\n",
    "        if i > 0 and roman[quovadis[i]] > roman[quovadis[i - 1]]:\n",
    "            val += roman[quovadis[i]] - 2 * roman[quovadis[i - 1]]\n",
    "        else:                \n",
    "            val += roman[quovadis[i]]\n",
    "    print(val)\n",
    "toArabic(\"MMCMX\")"
   ]
  },
  {
   "cell_type": "markdown",
   "metadata": {},
   "source": [
    "## Zadanie 9* _(5pt)_\n",
    "\n",
    "Napisz program kalkulator, ktĂłry pobiera wprowadzone wartoĹci oraz funkcje z klawiatury nastÄpnie podaje wynik. W przypadku bĹÄdnych danych zgĹasza bĹÄ",
    "d.\n",
    "\n",
    "PrzykĹadowa sesja:\n",
    "```\n",
    "    Kalkulator\n",
    "    [1]: 2+5*10\n",
    "        52\n",
    "    [2]: sin(0.5)+cos(0.3)\n",
    "        1.434762027729809\n",
    "    [3]: 2^100\n",
    "        1267650600228229401496703205376\n",
    "```\n",
    "\n",
    "PrzykĹadowy kod pobierania danych od uĹźytkownika:\n",
    "\n",
    "```\n",
    "    x = input('Podaj x = ')\n",
    "```"
   ]
  },
  {
   "cell_type": "code",
   "execution_count": 2,
   "metadata": {},
   "outputs": [
    {
     "name": "stdout",
     "output_type": "stream",
     "text": [
      "What do you want? 2+3\n",
      "5\n",
      "What do you want? 2^2^2\n",
      "16\n",
      "What do you want? exit\n"
     ]
    }
   ],
   "source": [
    "import math\n",
    "\n",
    "\n",
    "def sin(x):\n",
    "    return math.sin(x)\n",
    "\n",
    "\n",
    "def cos(x):\n",
    "    return math.cos(x)\n",
    "\n",
    "\n",
    "while True:\n",
    "    inquiry = input(\"What do you want? \")\n",
    "    if inquiry == \"exit\":\n",
    "        break\n",
    "    inquiry = inquiry.replace(\"^\", \"**\")\n",
    "\n",
    "    answer = eval(inquiry)\n",
    "    print(answer)"
   ]
  },
  {
   "cell_type": "markdown",
   "metadata": {},
   "source": [
    "\n",
    "## Zadanie 10* _(10pt)_\n",
    "\n",
    "Napisz program, ktĂłry rysuje na ekranie w trybie znakowym wykres funkcji zmiennej $x$. WskazĂłwka: utwĂłrz  ,,tablicÄ dwuwymiarowÄ",
    "'' o wymiarach 80x24 i narysuj wykres w tej tablicy. NastÄpnie wynik wyĹwietl na ekranie.\n",
    "\n",
    "```\n",
    "        Podaj funkcje f(x) = sin(x)\n",
    "        Podaj poczÄ",
    "tek przedziaĹu a = -pi\n",
    "        Podaj koniec przedziaĹu b = pi\n",
    "                                                |\n",
    "                                                |\n",
    "                                                |              ***********\n",
    "                                                |           ***           ***\n",
    "                                                |         **                 **\n",
    "                                                |        *                     *\n",
    "                                                |      **                       **\n",
    "                                                |     *                           *\n",
    "                                                |   **                             **\n",
    "                                                |  *                                 *\n",
    "                                                | *                                   *\n",
    "                                                |*                                     *\n",
    "        ----------------------------------------|---------------------------------------\n",
    "          *                                   * |\n",
    "           *                                 *  |\n",
    "            **                             **   |\n",
    "              *                           *     |\n",
    "               **                       **      |\n",
    "                 *                     *        |\n",
    "                  **                 **         |\n",
    "                    ***           ***           |\n",
    "                       ***** *****              |\n",
    "                            *                   |\n",
    "                                                |\n",
    "```"
   ]
  },
  {
   "cell_type": "code",
   "execution_count": null,
   "metadata": {},
   "outputs": [],
   "source": [
    "import math\n",
    "\n",
    "\n",
    "def f(x):\n",
    "    return math.cos(x)\n",
    "\n",
    "\n",
    "tab = []\n",
    "for i in range(24):\n",
    "    tab.append([])\n",
    "    for j in range(80):\n",
    "        if i == 12:\n",
    "            tab[i].append(\"-\")\n",
    "        elif j == 40:\n",
    "            tab[i].append(\"|\")\n",
    "        else:\n",
    "            tab[i].append(\" \")\n",
    "\n",
    "a = float(input(\"Type a:\"))\n",
    "b = float(input(\"Type b:\"))\n",
    "delta: float = (b - a) / 80\n",
    "delta2 = 2/24\n",
    "for i in range(80):\n",
    "    value = f(a)\n",
    "    myMin = -1\n",
    "    myMax = myMin + delta2\n",
    "    #print(value)\n",
    "    for j in range(24):\n",
    "        if myMin <= value < myMax:\n",
    "            tab[j][i] = \"*\"\n",
    "        myMin += delta2\n",
    "        myMax += delta2\n",
    "    a += delta\n",
    "\n",
    "for i in range(24):\n",
    "    for j in range(80):\n",
    "        print(tab[len(tab) - i - 1][j], end = \"\", sep=\" \")\n",
    "    print()\n"
   ]
  },
  {
   "cell_type": "code",
   "execution_count": null,
   "metadata": {},
   "outputs": [],
   "source": []
  },
  {
   "cell_type": "code",
   "execution_count": null,
   "metadata": {},
   "outputs": [],
   "source": []
  },
  {
   "cell_type": "code",
   "execution_count": null,
   "metadata": {},
   "outputs": [],
   "source": []
  }
 ],
 "metadata": {
  "kernelspec": {
   "display_name": "Python 3",
   "language": "python",
   "name": "python3"
  },
  "language_info": {
   "codemirror_mode": {
    "name": "ipython",
    "version": 2
   },
   "file_extension": ".py",
   "mimetype": "text/x-python",
   "name": "python",
   "nbconvert_exporter": "python",
   "pygments_lexer": "ipython2",
   "version": "2.7.17"
  }
 },
 "nbformat": 4,
 "nbformat_minor": 2
}
