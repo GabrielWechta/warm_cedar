{
 "cells": [
  {
   "cell_type": "markdown",
   "metadata": {},
   "source": [
    "## Lista 1\n",
    "### Zadanie 1\n",
    "* Wyznaczymy *macheps* iteracyjnie poprzez dzielenie liczby 1.0 (w różnych reprezentacjach) przez 2, tak długo jak suma 1 + *macheps* będzie > 1."
   ]
  },
  {
   "cell_type": "code",
   "execution_count": 9,
   "metadata": {},
   "outputs": [
    {
     "data": {
      "text/plain": [
       "print_macheps (generic function with 1 method)"
      ]
     },
     "execution_count": 9,
     "metadata": {},
     "output_type": "execute_result"
    }
   ],
   "source": [
    "function print_macheps(breed) # in this and next functions I use breed as Type argument\n",
    "    macheps = breed(1.0) \n",
    "    previous_macheps = macheps\n",
    "    \n",
    "    while 1 + macheps != 1 #adding and dividing any Float type T with Int returns T.\n",
    "        previous_macheps = macheps\n",
    "        macheps /= 2 \n",
    "        #println(macheps)\n",
    "        #println(bitstring(macheps)\n",
    "    end\n",
    "    println(breed, \": \", previous_macheps)\n",
    "end"
   ]
  },
  {
   "cell_type": "code",
   "execution_count": 10,
   "metadata": {},
   "outputs": [
    {
     "name": "stdout",
     "output_type": "stream",
     "text": [
      "by me: \n",
      "Float16: 0.000977\n",
      "Float32: 1.1920929e-7\n",
      "Float64: 2.220446049250313e-16\n",
      "by Julia: \n",
      "Float16: 0.000977\n",
      "Float32: 1.1920929e-7\n",
      "Float64: 2.220446049250313e-16\n"
     ]
    }
   ],
   "source": [
    "println(\"by me: \")\n",
    "half = Float16\n",
    "print_macheps(half)\n",
    "single = Float32\n",
    "print_macheps(single)\n",
    "double = Float64\n",
    "print_macheps(double)\n",
    "#####################\n",
    "println(\"by Julia: \")\n",
    "println(half, \": \", eps(half))\n",
    "println(single, \": \", eps(single))\n",
    "println(double, \": \", eps(double))"
   ]
  },
  {
   "cell_type": "markdown",
   "metadata": {},
   "source": [
    "Wyniki zgadzają się. Zobaczmy jeszcze *float.h* w C. *float.h* oferuje implemntacje **single** i **double**, nie ma **half**, ale ma za to **long double**. Kod w C oraz wynik:\n",
    "\n",
    "    #include <stdio.h>\n",
    "    #include <float.h>\n",
    "\n",
    "    int main () {\n",
    "\n",
    "       printf(\"The macheps value of Float32 = %.10e\\n\", FLT_EPSILON);\n",
    "   \n",
    "       printf(\"The macheps value of Float64 = %.10e\\n\", DBL_EPSILON);\n",
    "   \n",
    "    }\n",
    "\n",
    "The macheps value of Float32 = 1.1920928955e-07\n",
    "\n",
    "The macheps value of Float64 = 2.2204460493e-16\n"
   ]
  },
  {
   "cell_type": "markdown",
   "metadata": {},
   "source": [
    "* Wyznaczymy *ete* iteracyjnie poprzez dzielenie liczby 1.0 (w różnych reprezentacjach) przez 2, tak długo jak będzie więszka od 0.0."
   ]
  },
  {
   "cell_type": "code",
   "execution_count": 11,
   "metadata": {},
   "outputs": [
    {
     "data": {
      "text/plain": [
       "print_eta (generic function with 1 method)"
      ]
     },
     "execution_count": 11,
     "metadata": {},
     "output_type": "execute_result"
    }
   ],
   "source": [
    "function print_eta(breed)\n",
    "    eta = breed(1.0) \n",
    "    previous_eta = eta\n",
    "    \n",
    "    while eta > breed(0.0)\n",
    "        previous_eta = eta\n",
    "        eta /= 2 \n",
    "        #println(eta)\n",
    "        #println(bitstring(eta)\n",
    "    end\n",
    "    println(breed, \": \", previous_eta)\n",
    "end"
   ]
  },
  {
   "cell_type": "code",
   "execution_count": 12,
   "metadata": {},
   "outputs": [
    {
     "name": "stdout",
     "output_type": "stream",
     "text": [
      "by me: \n",
      "Float16: 6.0e-8\n",
      "Float32: 1.0e-45\n",
      "Float64: 5.0e-324\n",
      "by Julia: \n",
      "Float16: 6.0e-8\n",
      "Float32: 1.0e-45\n",
      "Float64: 5.0e-324\n"
     ]
    }
   ],
   "source": [
    "println(\"by me: \")\n",
    "half = Float16\n",
    "print_eta(half)\n",
    "single = Float32\n",
    "print_eta(single)\n",
    "double = Float64\n",
    "print_eta(double)\n",
    "#####################\n",
    "println(\"by Julia: \")\n",
    "println(half, \": \", nextfloat(half(0.0)))\n",
    "println(single, \": \", nextfloat(single(0.0)))\n",
    "println(double, \": \", nextfloat(double(0.0)))"
   ]
  },
  {
   "cell_type": "markdown",
   "metadata": {},
   "source": [
    "* Odpowiedzi na pytania:\n",
    "\n",
    "Liczba *macheps* jest najmniejszą liczbą maszynową, większą od ϵ gdzie 1 + ϵ = 1. *Macheps* jest więskzy od ϵ o ostani bit reprezentacji, tym samy *macheps* = 2ϵ.\n",
    "\n",
    "Liczba *eta* jest górną granicą zbioru liczb większych od 0, które nie mają reprezentacji w zbiorze liczb maszynowych, co jest równe $MIN_{sub}$.\n",
    "\n",
    "Funckje floatmin(Float32), floatmin(Float64) zwracają najmniejszą, znormalizowaną, dodatnią liczbę reprezentowaną przez dany typ zmiennoprzecinkowy (co równa się $MIN_{nor}$). Kiedy nextfloat() zwraca zdenormalizowaną liczbę co pokazuje poniższy kod. W dokumetnacji IEEE-754 możemy przeczytać:\n",
    ">Underflow:\n",
    "If the exponent has minimum value (all zero), special rules for denormalized values are followed. The exponent value is set to 2-126 and the \"invisible\" leading bit for the mantissa is no longer used.\n",
    "The range of the mantissa is now [0:1)."
   ]
  },
  {
   "cell_type": "code",
   "execution_count": 13,
   "metadata": {},
   "outputs": [
    {
     "name": "stdout",
     "output_type": "stream",
     "text": [
      "6.104e-5\n",
      "0000010000000000\n"
     ]
    }
   ],
   "source": [
    "println(floatmin(Float16))\n",
    "println(bitstring(floatmin(Float16)))"
   ]
  },
  {
   "cell_type": "code",
   "execution_count": 14,
   "metadata": {},
   "outputs": [
    {
     "name": "stdout",
     "output_type": "stream",
     "text": [
      "6.0e-8\n",
      "0000000000000001\n"
     ]
    }
   ],
   "source": [
    "println(nextfloat(Float16(0.0)))\n",
    "println(bitstring(nextfloat(Float16(0.0))))"
   ]
  },
  {
   "cell_type": "markdown",
   "metadata": {},
   "source": [
    "* Wyznaczymy *max* iteracyjnie poprzez mnożenie x = 1.0 (w różnych reprezentacjach) przez 2, tak długo aż otrzymamy *inf*, wtedy bierzemy poprzednią wartość x i potrzebujemy dodać (zapełnić) pozostałe bity mantysy x, najszybciej osiągniemy to odejmując od x eps(x) co da nam największa liczbę mniejszą od x, a następnie dodając ją do x. Musimy wykonać tę operację ponieważ ciągłe mnożenie przez jeden zapełnia wszytskie bity cechy co powoduje, że x ląduje w special case, mianowicie inf."
   ]
  },
  {
   "cell_type": "code",
   "execution_count": 15,
   "metadata": {},
   "outputs": [
    {
     "data": {
      "text/plain": [
       "print_max (generic function with 1 method)"
      ]
     },
     "execution_count": 15,
     "metadata": {},
     "output_type": "execute_result"
    }
   ],
   "source": [
    "function print_max(breed)\n",
    "    max = breed(1.0) \n",
    "    previous_max = max\n",
    "    \n",
    "    while isinf(max) == false\n",
    "        previous_max = max\n",
    "        max *= 2\n",
    "        #println(max)\n",
    "        #println(bitstring(max)\n",
    "    end\n",
    "\n",
    "    max = previous_max + (previous_max - eps(previous_max)) # very important bracket\n",
    "    println(breed, \": \", max)\n",
    "end"
   ]
  },
  {
   "cell_type": "code",
   "execution_count": 16,
   "metadata": {},
   "outputs": [
    {
     "name": "stdout",
     "output_type": "stream",
     "text": [
      "by me: \n",
      "Float16: 6.55e4\n",
      "Float32: 3.4028235e38\n",
      "Float64: 1.7976931348623157e308\n",
      "by Julia: \n",
      "Float16: 6.55e4\n",
      "Float32: 3.4028235e38\n",
      "Float64: 1.7976931348623157e308\n"
     ]
    }
   ],
   "source": [
    "println(\"by me: \")\n",
    "half = Float16\n",
    "print_max(half)\n",
    "single = Float32\n",
    "print_max(single)\n",
    "double = Float64\n",
    "print_max(double)\n",
    "#####################\n",
    "println(\"by Julia: \")\n",
    "println(half, \": \", floatmax(half))\n",
    "println(single, \": \", floatmax(single))\n",
    "println(double, \": \", floatmax(double))"
   ]
  },
  {
   "cell_type": "code",
   "execution_count": 17,
   "metadata": {},
   "outputs": [
    {
     "name": "stdout",
     "output_type": "stream",
     "text": [
      "0111100000000000\n",
      "0111011111111110\n",
      "0111101111111111\n",
      "0111101111111111\n"
     ]
    }
   ],
   "source": [
    "println(bitstring(Float16(3.277e4))) # x\n",
    "println(bitstring((Float16(3.277e4)) - eps(Float16(3.277e4)))) # x - eps(x)\n",
    "println(bitstring((Float16(3.277e4) + ((Float16(3.277e4)) - eps(Float16(3.277e4)))))) # x + (x - eps(x)) = max\n",
    "println(bitstring(floatmax(Float16))) # max"
   ]
  },
  {
   "cell_type": "markdown",
   "metadata": {},
   "source": [
    "### Zadanie 2\n",
    "* Będziemy obliczać wyrażenie $3(\\frac{4}{3} - 1) - 1$ dla wszystkich typów zmiennoprzecinkowych. Z nadzieją, że otrzymamy *macheps*."
   ]
  },
  {
   "cell_type": "code",
   "execution_count": 18,
   "metadata": {},
   "outputs": [
    {
     "name": "stdout",
     "output_type": "stream",
     "text": [
      "by Kahan: \n",
      "-0.000977\n",
      "1.1920929e-7\n",
      "-2.220446049250313e-16\n",
      "by Julia: \n",
      "0.000977\n",
      "1.1920929e-7\n",
      "2.220446049250313e-16\n"
     ]
    }
   ],
   "source": [
    "println(\"by Kahan: \")\n",
    "println(Float16(3) * ( Float16(4/3) - Float16(1) ) - Float16(1))\n",
    "println(Float32(3) * ( Float32(4/3) - Float32(1) ) - Float32(1))\n",
    "println(Float64(3) * ( Float64(4/3) - Float64(1) ) - Float64(1))\n",
    "println(\"by Julia: \")\n",
    "println(eps(Float16))\n",
    "println(eps(Float32))\n",
    "println(eps(Float64))"
   ]
  },
  {
   "cell_type": "markdown",
   "metadata": {},
   "source": [
    "Z dokładnością do wartości bezwględnej twierdzenie Kahana jest prawdziwe."
   ]
  },
  {
   "cell_type": "markdown",
   "metadata": {},
   "source": [
    "### Zadanie 3\n",
    "Pokażemy rozmieszczenie liczb maszynowych przy pomocy reprezentacji bitowej. Reprezentacje bitowe kolejncyh granic przedziałów z treści zadania w IEE-754 (double):"
   ]
  },
  {
   "cell_type": "code",
   "execution_count": 19,
   "metadata": {},
   "outputs": [
    {
     "name": "stdout",
     "output_type": "stream",
     "text": [
      "1 bitowo: 0011111111110000000000000000000000000000000000000000000000000000\n",
      "2 bitowo: 0100000000000000000000000000000000000000000000000000000000000000\n"
     ]
    }
   ],
   "source": [
    "println(\"1 bitowo: \", bitstring(1.0))\n",
    "println(\"2 bitowo: \", bitstring(2.0))"
   ]
  },
  {
   "cell_type": "markdown",
   "metadata": {},
   "source": [
    "Mamy 52 bity mantysy co oznacza, że za ich pomocą możemy zapisać $2^{52}$ różnych liczb z przedziału [1,2).\n",
    "Przy stałej cesze kolejną liczbę otrzymujemy poprzez dodanie bita na samym końcu (czyli 52-ego bita), co odpowiada dodaniu $2^{-52}$. Dla dowolnej liczby, z tego przedziału, kolejną otrzymujemy poprzez dodanie do niej stałej wartosci $2^{-52}$, co za tym idzie liczby maszynowe w przedziale [1,2] są rozmieszcozne równomiernie."
   ]
  },
  {
   "cell_type": "code",
   "execution_count": 20,
   "metadata": {},
   "outputs": [
    {
     "name": "stdout",
     "output_type": "stream",
     "text": [
      "1/2 bitowo: 0011111111100000000000000000000000000000000000000000000000000000\n",
      "1   bitowo: 0011111111110000000000000000000000000000000000000000000000000000\n",
      "2   bitowo: 0100000000000000000000000000000000000000000000000000000000000000\n",
      "4   bitowo: 0100000000010000000000000000000000000000000000000000000000000000\n"
     ]
    }
   ],
   "source": [
    "println(\"1/2 bitowo: \", bitstring(0.5))\n",
    "println(\"1   bitowo: \", bitstring(1.0))\n",
    "println(\"2   bitowo: \", bitstring(2.0))\n",
    "println(\"4   bitowo: \", bitstring(4.0))"
   ]
  },
  {
   "cell_type": "markdown",
   "metadata": {},
   "source": [
    "Dla każdego przedziału $[2^{c}, 2^{c+1}]$ gdzie $c\\in\\{-1022, -1021, ... ,1023\\}$ rozkład kolejncyh liczb maszynowych jest stały, ponieważ pomiędzy kolejnymi liczbami różnica w wartosci mantysy jest stała ( i wynosi $2^{-52}$), natomiast poprzez sposób liczenia wartości liczby w IEEE-754, to jest $s* 2^{c} * m_t$ róznice w wartosćiach liczb maszynowych rosną wraz ze wzrostem cechy. "
   ]
  },
  {
   "cell_type": "markdown",
   "metadata": {},
   "source": [
    "### Zadanie 4\n",
    "* Postaramy się rozwiązać a) i b) za jednym razem. Zaczniemy od 0.0 + $macheps$ i będziemy brali kolejne liczby mające reprezentacje we Float64."
   ]
  },
  {
   "cell_type": "code",
   "execution_count": 21,
   "metadata": {},
   "outputs": [
    {
     "name": "stdout",
     "output_type": "stream",
     "text": [
      "1.000000057228997\n"
     ]
    }
   ],
   "source": [
    "x = Float64(1.0)\n",
    "while Float64(x * Float64(Float64(1.0)/x)) == Float64(1.0) # Float64 in case this will be run on a computer with 32 bit architecture\n",
    "    x = nextfloat(x)\n",
    "end\n",
    "\n",
    "println(x)"
   ]
  },
  {
   "cell_type": "markdown",
   "metadata": {},
   "source": [
    "W przypadku gdyby górna komórka liczyłą sie zbyt długo, niżej jest wynik i dowód, że nie spełnia tej równości."
   ]
  },
  {
   "cell_type": "code",
   "execution_count": 22,
   "metadata": {},
   "outputs": [
    {
     "data": {
      "text/plain": [
       "0.9999999999999999"
      ]
     },
     "execution_count": 22,
     "metadata": {},
     "output_type": "execute_result"
    }
   ],
   "source": [
    "1.000000057228997*(1/1.000000057228997)\n"
   ]
  },
  {
   "cell_type": "markdown",
   "metadata": {},
   "source": [
    "### Zadanie 5\n",
    "* Zaimplementujmy 4 metody liczenia iloczynu skalarnego."
   ]
  },
  {
   "cell_type": "code",
   "execution_count": 23,
   "metadata": {},
   "outputs": [
    {
     "data": {
      "text/plain": [
       "biggest_to_smallest_sum (generic function with 1 method)"
      ]
     },
     "execution_count": 23,
     "metadata": {},
     "output_type": "execute_result"
    }
   ],
   "source": [
    "function front_sum(A, B, size, breed) # frontward\n",
    "    sum = breed(0.0)\n",
    "    for i in 1:size\n",
    "        sum += breed(A[i]) * breed(B[i])\n",
    "    end\n",
    "    return sum\n",
    "end\n",
    "\n",
    "function back_sum(A, B, size, breed) # backward\n",
    "    sum = breed(0.0)\n",
    "    for i in size:-1:1\n",
    "        sum += breed(A[i]) * breed(B[i])\n",
    "    end\n",
    "    return sum\n",
    "end\n",
    "\n",
    "function sum_helper(NewA, breed) # help function, beacuse I am not sure how does Base.sum work\n",
    "    sum = breed(0.0)\n",
    "    for i in 1:size(NewA)[1]\n",
    "        sum += NewA[i]\n",
    "    end\n",
    "    return sum\n",
    "end\n",
    "\n",
    "function smallest_to_biggest_sum(A, B, size, breed) \n",
    "    P = []\n",
    "    N = []\n",
    "    for i in 1:size\n",
    "        mult = breed(A[i]) * breed(B[i]) # simulated dot product\n",
    "        if mult >= 0 # positive mults go to positive array, same with negative, they go to negative\n",
    "            append!(P, mult)\n",
    "        else \n",
    "            append!(N, mult)\n",
    "        end\n",
    "    end\n",
    "    P = sort(P, rev = true)\n",
    "    N = sort(N, rev = true)\n",
    "    positive = sum_helper(P, breed)\n",
    "    negative = sum_helper(N, breed)\n",
    "    return breed(positive + negative)\n",
    "end\n",
    "\n",
    "function biggest_to_smallest_sum(A, B, size, breed)\n",
    "    P = []\n",
    "    N = []\n",
    "    for i in 1:size\n",
    "        mult = breed(A[i]) * breed(B[i]) # simulated dot product\n",
    "        if mult >= 0 # positive mults go to positive array, same with negative, they go to negative\n",
    "            append!(P, mult)\n",
    "        else \n",
    "            append!(N, mult)\n",
    "        end\n",
    "    end\n",
    "    P = sort(P)\n",
    "    N = sort(N)\n",
    "    positive = sum_helper(P, breed)\n",
    "    negative = sum_helper(N, breed)\n",
    "    return breed(positive + negative)\n",
    "end"
   ]
  },
  {
   "cell_type": "code",
   "execution_count": 24,
   "metadata": {},
   "outputs": [
    {
     "name": "stdout",
     "output_type": "stream",
     "text": [
      "by LinearAlgebra: \n",
      "1.0251881368296672e-10\n",
      "frontward sum:\n",
      "-0.4999443\n",
      "1.0251881368296672e-10\n",
      "backward sum:\n",
      "-0.4543457\n",
      "-1.5643308870494366e-10\n",
      "biggest to smallest sum:\n",
      "-0.5\n",
      "0.0\n",
      "smallest to biggest sum:\n",
      "-0.5\n",
      "0.0\n"
     ]
    }
   ],
   "source": [
    "using LinearAlgebra\n",
    "A = [2.718281828, -3.141592654, 1.414213562, 0.5772156649, 0.3010299957]\n",
    "B = [1486.2497, 878366.9879, -22.37492, 4773714.647, 0.000185049]\n",
    "\n",
    "println(\"by LinearAlgebra: \")\n",
    "println(dot(A,B))\n",
    "println(\"frontward sum:\")\n",
    "println(front_sum(A,B,5, Float32))\n",
    "println(front_sum(A,B,5, Float64))\n",
    "# println(front_sum(A,B,5, BigFloat))\n",
    "println(\"backward sum:\")\n",
    "println(back_sum(A,B,5, Float32))\n",
    "println(back_sum(A,B,5, Float64))\n",
    "# println(back_sum(A,B,5, BigFloat))\n",
    "println(\"biggest to smallest sum:\")\n",
    "println(biggest_to_smallest_sum(A,B,5, Float32))\n",
    "println(biggest_to_smallest_sum(A,B,5, Float64))\n",
    "println(\"smallest to biggest sum:\")\n",
    "println(smallest_to_biggest_sum(A,B,5, Float32))\n",
    "println(smallest_to_biggest_sum(A,B,5, Float64))"
   ]
  },
  {
   "cell_type": "markdown",
   "metadata": {},
   "source": [
    "Jak widać wyniki bardzo się różnią. Metoda liczenia a) jest zgodna z metodą oferowaną przez pakiet LinearAlgebra natomiast wciąż różny od prawidłowej wartości, to jest $-1.00657107000000 * 10^{-11}$. Jeżeli chodzi o sumy c) i d). Wyniki są identyczne, co jest zrozumiałe bo kolejność wykonywania operacji ma znaczenie gdy liczby są sobie bliskie, natomiast w tym przypadku liczby były daleko od siebie, natomiast wartość ich sumy jest bardzo odległa od prawdziwej. Przykład jest tak dobrany aby dodnie sumy częściowe i ujemne były dużymi bliskimi sobie liczbami o przeciwnych znakach. Po zsumowaniu dostajemy 0.0."
   ]
  },
  {
   "cell_type": "markdown",
   "metadata": {},
   "source": [
    "### Zadanie 6"
   ]
  },
  {
   "cell_type": "code",
   "execution_count": 25,
   "metadata": {},
   "outputs": [
    {
     "data": {
      "text/plain": [
       "g (generic function with 1 method)"
      ]
     },
     "execution_count": 25,
     "metadata": {},
     "output_type": "execute_result"
    }
   ],
   "source": [
    "f(x) = sqrt(x^2 + 1.0) - 1.0\n",
    "g(x) = x^2/(sqrt(x^2 + 1) + 1)"
   ]
  },
  {
   "cell_type": "code",
   "execution_count": 26,
   "metadata": {},
   "outputs": [
    {
     "name": "stdout",
     "output_type": "stream",
     "text": [
      "f(8^(-1) = 0.0077822185373186414\n",
      "g(8^(-1) = 0.0077822185373187065\n",
      "\n",
      "f(8^(-2) = 0.00012206286282867573\n",
      "g(8^(-2) = 0.00012206286282875901\n",
      "\n",
      "f(8^(-3) = 1.9073468138230965e-6\n",
      "g(8^(-3) = 1.907346813826566e-6\n",
      "\n",
      "f(8^(-4) = 2.9802321943606103e-8\n",
      "g(8^(-4) = 2.9802321943606116e-8\n",
      "\n",
      "f(8^(-5) = 4.656612873077393e-10\n",
      "g(8^(-5) = 4.6566128719931904e-10\n",
      "\n",
      "f(8^(-6) = 7.275957614183426e-12\n",
      "g(8^(-6) = 7.275957614156956e-12\n",
      "\n",
      "f(8^(-7) = 1.1368683772161603e-13\n",
      "g(8^(-7) = 1.1368683772160957e-13\n",
      "\n",
      "f(8^(-8) = 1.7763568394002505e-15\n",
      "g(8^(-8) = 1.7763568394002489e-15\n",
      "\n",
      "f(8^(-9) = 0.0\n",
      "g(8^(-9) = 2.7755575615628914e-17\n",
      "\n",
      "f(8^(-10) = 0.0\n",
      "g(8^(-10) = 4.336808689942018e-19\n",
      "\n",
      "f(8^(-11) = 0.0\n",
      "g(8^(-11) = 6.776263578034403e-21\n",
      "\n",
      "f(8^(-12) = 0.0\n",
      "g(8^(-12) = 1.0587911840678754e-22\n",
      "\n",
      "f(8^(-13) = 0.0\n",
      "g(8^(-13) = 1.6543612251060553e-24\n",
      "\n",
      "f(8^(-14) = 0.0\n",
      "g(8^(-14) = 2.5849394142282115e-26\n",
      "\n",
      "f(8^(-15) = 0.0\n",
      "g(8^(-15) = 4.0389678347315804e-28\n",
      "\n"
     ]
    }
   ],
   "source": [
    "for i in 1:15\n",
    "    x = 8.0^(-i)\n",
    "    println(\"f(8^(-\", i, \") = \", f(x))\n",
    "    println(\"g(8^(-\", i, \") = \", g(x), \"\\n\")\n",
    "end"
   ]
  },
  {
   "cell_type": "markdown",
   "metadata": {},
   "source": [
    "Funckja $g$ daje lepsze wyniki, co widać już przy $8^{-9}$. Powodem tego zachowania jest pojawienie się operacji odejmowania w funckji $f$. W przypadku funkcji $f$ następuje redukacja cyfr znaczących co było omówione na wykładzie."
   ]
  },
  {
   "cell_type": "markdown",
   "metadata": {},
   "source": [
    "### Zadanie 7\n",
    "Będziemy liczyć:\n",
    "* przybliżoną wartość pochodnej funckji $f(x) = sin(x) + cos(3x)$ w punkcie $x_0 = 1$, za pomocą przybliżenia $f'(x_0) \\approx \\tilde{f'}(x_0) = \\frac{f(x_0 + h) - f(x_0)}{h}$,\n",
    "\n",
    "* błąd $|f'(x_0) - \\tilde{f'}(x_0)|$,\n",
    "\n",
    "* oraz $f'(x) = cos(x) - 3sin(3x)$."
   ]
  },
  {
   "cell_type": "code",
   "execution_count": 27,
   "metadata": {},
   "outputs": [
    {
     "data": {
      "text/plain": [
       "f_tilda_prim (generic function with 1 method)"
      ]
     },
     "execution_count": 27,
     "metadata": {},
     "output_type": "execute_result"
    }
   ],
   "source": [
    "f(x) = sin(x) + cos(3x)\n",
    "f_prim(x) = cos(x) - 3sin(3x)\n",
    "f_tilda_prim(x, h) = (f(x + h) - f(x))/h"
   ]
  },
  {
   "cell_type": "code",
   "execution_count": 28,
   "metadata": {},
   "outputs": [
    {
     "name": "stdout",
     "output_type": "stream",
     "text": [
      "n=0 : h=1.0 : 1+h=2.0 : ft=2.0179892252685967 : err=1.9010469435800585\n",
      "n=1 : h=0.5 : 1+h=1.5 : ft=1.8704413979316472 : err=1.753499116243109\n",
      "n=2 : h=0.25 : 1+h=1.25 : ft=1.1077870952342974 : err=0.9908448135457593\n",
      "n=3 : h=0.125 : 1+h=1.125 : ft=0.6232412792975817 : err=0.5062989976090435\n",
      "n=4 : h=0.0625 : 1+h=1.0625 : ft=0.3704000662035192 : err=0.253457784514981\n",
      "n=5 : h=0.03125 : 1+h=1.03125 : ft=0.24344307439754687 : err=0.1265007927090087\n",
      "n=6 : h=0.015625 : 1+h=1.015625 : ft=0.18009756330732785 : err=0.0631552816187897\n",
      "n=7 : h=0.0078125 : 1+h=1.0078125 : ft=0.1484913953710958 : err=0.03154911368255764\n",
      "n=8 : h=0.00390625 : 1+h=1.00390625 : ft=0.1327091142805159 : err=0.015766832591977753\n",
      "n=9 : h=0.001953125 : 1+h=1.001953125 : ft=0.1248236929407085 : err=0.007881411252170345\n",
      "n=10 : h=0.0009765625 : 1+h=1.0009765625 : ft=0.12088247681106168 : err=0.0039401951225235265\n",
      "n=11 : h=0.00048828125 : 1+h=1.00048828125 : ft=0.11891225046883847 : err=0.001969968780300313\n",
      "n=12 : h=0.000244140625 : 1+h=1.000244140625 : ft=0.11792723373901026 : err=0.0009849520504721099\n",
      "n=13 : h=0.0001220703125 : 1+h=1.0001220703125 : ft=0.11743474961076572 : err=0.0004924679222275685\n",
      "n=14 : h=6.103515625e-5 : 1+h=1.00006103515625 : ft=0.11718851362093119 : err=0.0002462319323930373\n",
      "n=15 : h=3.0517578125e-5 : 1+h=1.000030517578125 : ft=0.11706539714577957 : err=0.00012311545724141837\n",
      "n=16 : h=1.52587890625e-5 : 1+h=1.0000152587890625 : ft=0.11700383928837255 : err=6.155759983439424e-5\n",
      "n=17 : h=7.62939453125e-6 : 1+h=1.0000076293945312 : ft=0.11697306045971345 : err=3.077877117529937e-5\n",
      "n=18 : h=3.814697265625e-6 : 1+h=1.0000038146972656 : ft=0.11695767106721178 : err=1.5389378673624776e-5\n",
      "n=19 : h=1.9073486328125e-6 : 1+h=1.0000019073486328 : ft=0.11694997636368498 : err=7.694675146829866e-6\n",
      "n=20 : h=9.5367431640625e-7 : 1+h=1.0000009536743164 : ft=0.11694612901192158 : err=3.8473233834324105e-6\n",
      "n=21 : h=4.76837158203125e-7 : 1+h=1.0000004768371582 : ft=0.1169442052487284 : err=1.9235601902423127e-6\n",
      "n=22 : h=2.384185791015625e-7 : 1+h=1.000000238418579 : ft=0.11694324295967817 : err=9.612711400208696e-7\n",
      "n=23 : h=1.1920928955078125e-7 : 1+h=1.0000001192092896 : ft=0.11694276239722967 : err=4.807086915192826e-7\n",
      "n=24 : h=5.960464477539063e-8 : 1+h=1.0000000596046448 : ft=0.11694252118468285 : err=2.394961446938737e-7\n",
      "n=25 : h=2.9802322387695312e-8 : 1+h=1.0000000298023224 : ft=0.116942398250103 : err=1.1656156484463054e-7\n",
      "n=26 : h=1.4901161193847656e-8 : 1+h=1.0000000149011612 : ft=0.11694233864545822 : err=5.6956920069239914e-8\n",
      "n=27 : h=7.450580596923828e-9 : 1+h=1.0000000074505806 : ft=0.11694231629371643 : err=3.460517827846843e-8\n",
      "n=28 : h=3.725290298461914e-9 : 1+h=1.0000000037252903 : ft=0.11694228649139404 : err=4.802855890773117e-9\n",
      "n=29 : h=1.862645149230957e-9 : 1+h=1.0000000018626451 : ft=0.11694222688674927 : err=5.480178888461751e-8\n",
      "n=30 : h=9.313225746154785e-10 : 1+h=1.0000000009313226 : ft=0.11694216728210449 : err=1.1440643366000813e-7\n",
      "n=31 : h=4.656612873077393e-10 : 1+h=1.0000000004656613 : ft=0.11694216728210449 : err=1.1440643366000813e-7\n",
      "n=32 : h=2.3283064365386963e-10 : 1+h=1.0000000002328306 : ft=0.11694192886352539 : err=3.5282501276157063e-7\n",
      "n=33 : h=1.1641532182693481e-10 : 1+h=1.0000000001164153 : ft=0.11694145202636719 : err=8.296621709646956e-7\n",
      "n=34 : h=5.820766091346741e-11 : 1+h=1.0000000000582077 : ft=0.11694145202636719 : err=8.296621709646956e-7\n",
      "n=35 : h=2.9103830456733704e-11 : 1+h=1.0000000000291038 : ft=0.11693954467773438 : err=2.7370108037771956e-6\n",
      "n=36 : h=1.4551915228366852e-11 : 1+h=1.000000000014552 : ft=0.116943359375 : err=1.0776864618478044e-6\n",
      "n=37 : h=7.275957614183426e-12 : 1+h=1.000000000007276 : ft=0.1169281005859375 : err=1.4181102600652196e-5\n",
      "n=38 : h=3.637978807091713e-12 : 1+h=1.000000000003638 : ft=0.116943359375 : err=1.0776864618478044e-6\n",
      "n=39 : h=1.8189894035458565e-12 : 1+h=1.000000000001819 : ft=0.11688232421875 : err=5.9957469788152196e-5\n",
      "n=40 : h=9.094947017729282e-13 : 1+h=1.0000000000009095 : ft=0.1168212890625 : err=0.0001209926260381522\n",
      "n=41 : h=4.547473508864641e-13 : 1+h=1.0000000000004547 : ft=0.116943359375 : err=1.0776864618478044e-6\n",
      "n=42 : h=2.2737367544323206e-13 : 1+h=1.0000000000002274 : ft=0.11669921875 : err=0.0002430629385381522\n",
      "n=43 : h=1.1368683772161603e-13 : 1+h=1.0000000000001137 : ft=0.1162109375 : err=0.0007313441885381522\n",
      "n=44 : h=5.684341886080802e-14 : 1+h=1.0000000000000568 : ft=0.1171875 : err=0.0002452183114618478\n",
      "n=45 : h=2.842170943040401e-14 : 1+h=1.0000000000000284 : ft=0.11328125 : err=0.003661031688538152\n",
      "n=46 : h=1.4210854715202004e-14 : 1+h=1.0000000000000142 : ft=0.109375 : err=0.007567281688538152\n",
      "n=47 : h=7.105427357601002e-15 : 1+h=1.000000000000007 : ft=0.109375 : err=0.007567281688538152\n",
      "n=48 : h=3.552713678800501e-15 : 1+h=1.0000000000000036 : ft=0.09375 : err=0.023192281688538152\n",
      "n=49 : h=1.7763568394002505e-15 : 1+h=1.0000000000000018 : ft=0.125 : err=0.008057718311461848\n",
      "n=50 : h=8.881784197001252e-16 : 1+h=1.0000000000000009 : ft=0.0 : err=0.11694228168853815\n",
      "n=51 : h=4.440892098500626e-16 : 1+h=1.0000000000000004 : ft=0.0 : err=0.11694228168853815\n",
      "n=52 : h=2.220446049250313e-16 : 1+h=1.0000000000000002 : ft=-0.5 : err=0.6169422816885382\n",
      "n=53 : h=1.1102230246251565e-16 : 1+h=1.0 : ft=0.0 : err=0.11694228168853815\n",
      "n=54 : h=5.551115123125783e-17 : 1+h=1.0 : ft=0.0 : err=0.11694228168853815\n",
      "\n",
      "actually value of f' in x_0 = 0.11694228168853815\n"
     ]
    }
   ],
   "source": [
    "for n in 0:54\n",
    "    x_0 = 1.0\n",
    "    h = 2.0^(-n)\n",
    "    println(\"n=\", n, \" : h=\", h, \" : 1+h=\", x_0 + h, \" : ft=\", f_tilda_prim(x_0, h), \" : err=\", abs(f_prim(x_0) - f_tilda_prim(x_0, h)))\n",
    "end\n",
    "\n",
    "println(\"\\nactually value of f' in x_0 = \", f_prim(1.0))\n",
    "    "
   ]
  },
  {
   "cell_type": "markdown",
   "metadata": {},
   "source": [
    "Zmniejszanie wartości $h$ od pewnego momentu nie poprawia wyniku, ponieważ operacja odejmowania na bliskich sobie liczbach redukuje cyfry znaczące. Zmniejszanie $h$ doprowadza do tego, że $x + h \\longrightarrow x$ tym samym w liczniku f_tilda_prim() odejmujemy liczby coraz bliższe."
   ]
  },
  {
   "cell_type": "markdown",
   "metadata": {},
   "source": [
    "Wartość $1.0 + h$ od $n=53$ jest równa 1.0."
   ]
  },
  {
   "cell_type": "markdown",
   "metadata": {},
   "source": [
    "Najlepszy wynik otrzymujemy dla $n = 28$, widać to po najmniejszym błędzie. Może być to odrobine szokujące, ale jest rozsądne, zmniejszanie $h$, czyli tym samym przybliżanie się do rzeczywistej wartości pochodznej w tym punkcie prowadziłoby do lepszego wyniku gdybyśmy nie operowali na liczbach rzeczywistych, niestety mamy wyłacznie liczby maszynowe. "
   ]
  },
  {
   "cell_type": "code",
   "execution_count": null,
   "metadata": {},
   "outputs": [],
   "source": []
  }
 ],
 "metadata": {
  "kernelspec": {
   "display_name": "Julia 1.5.2",
   "language": "julia",
   "name": "julia-1.5"
  },
  "language_info": {
   "file_extension": ".jl",
   "mimetype": "application/julia",
   "name": "julia",
   "version": "1.5.2"
  }
 },
 "nbformat": 4,
 "nbformat_minor": 4
}
