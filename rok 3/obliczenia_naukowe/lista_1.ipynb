{
 "cells": [
  {
   "cell_type": "markdown",
   "metadata": {},
   "source": [
    "## Lista 1\n",
    "### Zadanie 1\n",
    "* Wyznaczymy *macheps* iteracyjnie poprzez dzielenie liczby 1.0 (w różnych reprezentacjach) przez 2, tak długo jak suma 1 + *macheps* będzie > 1."
   ]
  },
  {
   "cell_type": "code",
   "execution_count": 1,
   "metadata": {},
   "outputs": [
    {
     "data": {
      "text/plain": [
       "print_macheps (generic function with 1 method)"
      ]
     },
     "execution_count": 1,
     "metadata": {},
     "output_type": "execute_result"
    }
   ],
   "source": [
    "function print_macheps(breed)\n",
    "    macheps = breed(1.0) \n",
    "    previous_macheps = macheps\n",
    "    \n",
    "    while 1 + macheps != 1 #adding and dividing any Float type T with Int returns T.\n",
    "        previous_macheps = macheps\n",
    "        macheps /= 2 \n",
    "        #println(macheps)\n",
    "        #println(bitstring(macheps)\n",
    "    end\n",
    "    println(breed, \": \", previous_macheps)\n",
    "end"
   ]
  },
  {
   "cell_type": "code",
   "execution_count": 2,
   "metadata": {},
   "outputs": [
    {
     "name": "stdout",
     "output_type": "stream",
     "text": [
      "by me: \n",
      "Float16: 0.000977\n",
      "Float32: 1.1920929e-7\n",
      "Float64: 2.220446049250313e-16\n",
      "by Julia: \n",
      "Float16: 0.000977\n",
      "Float32: 1.1920929e-7\n",
      "Float64: 2.220446049250313e-16\n"
     ]
    }
   ],
   "source": [
    "println(\"by me: \")\n",
    "half = Float16\n",
    "print_macheps(half)\n",
    "single = Float32\n",
    "print_macheps(single)\n",
    "double = Float64\n",
    "print_macheps(double)\n",
    "#####################\n",
    "println(\"by Julia: \")\n",
    "println(half, \": \", eps(half))\n",
    "println(single, \": \", eps(single))\n",
    "println(double, \": \", eps(double))"
   ]
  },
  {
   "cell_type": "markdown",
   "metadata": {},
   "source": [
    "Wyniki zgadzają się. Zobaczmy jeszcze *float.h* w C. *float.h* oferuje implemntacje **single** i **double**, nie ma **half**, ale ma za to **long double**. Kod w C oraz wynik:\n",
    "\n",
    "    #include <stdio.h>\n",
    "    #include <float.h>\n",
    "\n",
    "    int main () {\n",
    "\n",
    "       printf(\"The macheps value of Float32 = %.10e\\n\", FLT_EPSILON);\n",
    "   \n",
    "       printf(\"The macheps value of Float64 = %.10e\\n\", DBL_EPSILON);\n",
    "   \n",
    "    }\n",
    "\n",
    "The macheps value of Float32 = 1.1920928955e-07\n",
    "\n",
    "The macheps value of Float64 = 2.2204460493e-16\n"
   ]
  },
  {
   "cell_type": "markdown",
   "metadata": {},
   "source": [
    "* Wyznaczymy *ete* iteracyjnie poprzez dzielenie liczby 1.0 (w różnych reprezentacjach) przez 2, tak długo jak będzie więszka od 0.0."
   ]
  },
  {
   "cell_type": "code",
   "execution_count": 3,
   "metadata": {},
   "outputs": [
    {
     "data": {
      "text/plain": [
       "print_eta (generic function with 1 method)"
      ]
     },
     "execution_count": 3,
     "metadata": {},
     "output_type": "execute_result"
    }
   ],
   "source": [
    "function print_eta(breed)\n",
    "    eta = breed(1.0) \n",
    "    previous_eta = eta\n",
    "    \n",
    "    while eta > breed(0.0)\n",
    "        previous_eta = eta\n",
    "        eta /= 2 \n",
    "        #println(eta)\n",
    "        #println(bitstring(eta)\n",
    "    end\n",
    "    println(breed, \": \", previous_eta)\n",
    "end"
   ]
  },
  {
   "cell_type": "code",
   "execution_count": 4,
   "metadata": {},
   "outputs": [
    {
     "name": "stdout",
     "output_type": "stream",
     "text": [
      "by me: \n",
      "Float16: 6.0e-8\n",
      "Float32: 1.0e-45\n",
      "Float64: 5.0e-324\n",
      "by Julia: \n",
      "Float16: 6.0e-8\n",
      "Float32: 1.0e-45\n",
      "Float64: 5.0e-324\n"
     ]
    }
   ],
   "source": [
    "println(\"by me: \")\n",
    "half = Float16\n",
    "print_eta(half)\n",
    "single = Float32\n",
    "print_eta(single)\n",
    "double = Float64\n",
    "print_eta(double)\n",
    "#####################\n",
    "println(\"by Julia: \")\n",
    "println(half, \": \", nextfloat(half(0.0)))\n",
    "println(single, \": \", nextfloat(single(0.0)))\n",
    "println(double, \": \", nextfloat(double(0.0)))"
   ]
  },
  {
   "cell_type": "markdown",
   "metadata": {},
   "source": [
    "* Odpowiedzi na pytania:\n",
    "\n",
    "Liczba *macheps* jest najmniejszą liczbą maszynową, większą od ϵ gdzie 1 + ϵ = 1. *Macheps* jest więskzy od ϵ o ostani bit reprezentacji, tym samy *macheps* = 2ϵ.\n",
    "\n",
    "Liczba *eta* jest górną granicą zbioru liczb większych od 0, które nie mają reprezentacji w zbiorze liczb maszynowych.\n",
    "\n",
    "Funckje floatmin(Float32), floatmin(Float64) zwracają najmniejszą, znormalizowaną, dodatnią liczbę reprezentowaną przez dany typ zmiennoprzecinkowy (co równa się $MIN_{nor}$). Kiedy nextfloat() zwraca zdenormalizowaną liczbę co pokazuje poniższy kod. W dokumetnacji IEEE-754 możemy przeczytać:\n",
    ">Underflow:\n",
    "If the exponent has minimum value (all zero), special rules for denormalized values are followed. The exponent value is set to 2-126 and the \"invisible\" leading bit for the mantissa is no longer used.\n",
    "The range of the mantissa is now [0:1)."
   ]
  },
  {
   "cell_type": "code",
   "execution_count": 5,
   "metadata": {},
   "outputs": [
    {
     "name": "stdout",
     "output_type": "stream",
     "text": [
      "6.104e-5\n",
      "0000010000000000\n"
     ]
    }
   ],
   "source": [
    "println(floatmin(Float16))\n",
    "println(bitstring(floatmin(Float16)))"
   ]
  },
  {
   "cell_type": "code",
   "execution_count": 6,
   "metadata": {},
   "outputs": [
    {
     "name": "stdout",
     "output_type": "stream",
     "text": [
      "6.0e-8\n",
      "0000000000000001\n"
     ]
    }
   ],
   "source": [
    "println(nextfloat(Float16(0.0)))\n",
    "println(bitstring(nextfloat(Float16(0.0))))"
   ]
  },
  {
   "cell_type": "markdown",
   "metadata": {},
   "source": [
    "* Wyznaczymy *max* iteracyjnie poprzez mnożenie x = 1.0 (w różnych reprezentacjach) przez 2, tak długo aż nie otrzymamy *inf*, wtedy potrzebujemy dodać (zapełnić) pozostałe bity mantysy x, najszybciej osiągniemy to odejmując od x eps(x) co da nam największa liczbę mniejszą od x, a następnie dodając ją do x. Musimy wykonać tę operację ponieważ ciągłe mnożenie przez jeden zapełnia wszytskie bity cechy co powoduje, że x ląduje w special case, mianowicie inf."
   ]
  },
  {
   "cell_type": "code",
   "execution_count": 7,
   "metadata": {},
   "outputs": [
    {
     "data": {
      "text/plain": [
       "print_max (generic function with 1 method)"
      ]
     },
     "execution_count": 7,
     "metadata": {},
     "output_type": "execute_result"
    }
   ],
   "source": [
    "function print_max(breed)\n",
    "    max = breed(1.0) \n",
    "    previous_max = max\n",
    "    \n",
    "    while isinf(max) == false\n",
    "        previous_max = max\n",
    "        max *= 2\n",
    "        #println(max)\n",
    "        #println(bitstring(max)\n",
    "    end\n",
    "\n",
    "    max = previous_max + (previous_max - eps(previous_max)) # very important bracket\n",
    "    println(breed, \": \", max)\n",
    "end"
   ]
  },
  {
   "cell_type": "code",
   "execution_count": null,
   "metadata": {},
   "outputs": [],
   "source": []
  },
  {
   "cell_type": "code",
   "execution_count": 8,
   "metadata": {},
   "outputs": [
    {
     "name": "stdout",
     "output_type": "stream",
     "text": [
      "by me: \n",
      "Float16: 6.55e4\n",
      "Float32: 3.4028235e38\n",
      "Float64: 1.7976931348623157e308\n",
      "by Julia: \n",
      "Float16: 6.55e4\n",
      "Float32: 3.4028235e38\n",
      "Float64: 1.7976931348623157e308\n"
     ]
    }
   ],
   "source": [
    "println(\"by me: \")\n",
    "half = Float16\n",
    "print_max(half)\n",
    "single = Float32\n",
    "print_max(single)\n",
    "double = Float64\n",
    "print_max(double)\n",
    "#####################\n",
    "println(\"by Julia: \")\n",
    "println(half, \": \", floatmax(half))\n",
    "println(single, \": \", floatmax(single))\n",
    "println(double, \": \", floatmax(double))"
   ]
  },
  {
   "cell_type": "code",
   "execution_count": 9,
   "metadata": {},
   "outputs": [
    {
     "name": "stdout",
     "output_type": "stream",
     "text": [
      "0111100000000000\n",
      "0111011111111110\n",
      "0111101111111111\n",
      "0111101111111111\n"
     ]
    }
   ],
   "source": [
    "println(bitstring(Float16(3.277e4))) # x\n",
    "println(bitstring((Float16(3.277e4)) - eps(Float16(3.277e4)))) # x - eps(x)\n",
    "println(bitstring((Float16(3.277e4) + ((Float16(3.277e4)) - eps(Float16(3.277e4)))))) # x + (x - eps(x)) = max\n",
    "println(bitstring(floatmax(Float16))) # max"
   ]
  },
  {
   "cell_type": "markdown",
   "metadata": {},
   "source": [
    "### Zadanie 2\n",
    "* Będziemy obliczać wyrażenie $3(\\frac{4}{3} - 1) - 1$ dla wszystkich typów zmiennoprzecinkowych."
   ]
  },
  {
   "cell_type": "code",
   "execution_count": 10,
   "metadata": {},
   "outputs": [
    {
     "name": "stdout",
     "output_type": "stream",
     "text": [
      "by Kahan: \n",
      "-0.000977\n",
      "1.1920929e-7\n",
      "-2.220446049250313e-16\n",
      "by Julia: \n",
      "0.000977\n",
      "1.1920929e-7\n",
      "2.220446049250313e-16\n"
     ]
    }
   ],
   "source": [
    "println(\"by Kahan: \")\n",
    "println(Float16(3) * ( Float16(4/3) - Float16(1) ) - Float16(1))\n",
    "println(Float32(3) * ( Float32(4/3) - Float32(1) ) - Float32(1))\n",
    "println(Float64(3) * ( Float64(4/3) - Float64(1) ) - Float64(1))\n",
    "println(\"by Julia: \")\n",
    "println(eps(Float16))\n",
    "println(eps(Float32))\n",
    "println(eps(Float64))"
   ]
  },
  {
   "cell_type": "markdown",
   "metadata": {},
   "source": [
    "Z dokładnością do wartości bezwględnej twierdzenie Kahana jest prawdziwe."
   ]
  },
  {
   "cell_type": "markdown",
   "metadata": {},
   "source": [
    "### Zadanie 3\n",
    "W IEE-754 (double) reprezentacje bitowe:"
   ]
  },
  {
   "cell_type": "code",
   "execution_count": 16,
   "metadata": {},
   "outputs": [
    {
     "name": "stdout",
     "output_type": "stream",
     "text": [
      "liczba 1: 0011111111110000000000000000000000000000000000000000000000000000\n",
      "liczba 2: 0100000000000000000000000000000000000000000000000000000000000000\n"
     ]
    }
   ],
   "source": [
    "println(\"1 bitowo: \", bitstring(1.0))\n",
    "println(\"2 bitowo: \", bitstring(2.0))"
   ]
  },
  {
   "cell_type": "markdown",
   "metadata": {},
   "source": [
    "Mamy 52 bity mantysy co oznacza, że za ich pomocą możemy zapisać $2^{52}$ różnych liczb z przedziału [1,2).\n",
    "Przy stałej cesze kolejną liczbę otrzymujemy poprzez dodanie bita na samym końcu (czyli 52-ego bita), co odpowiada dodaniu $2^{-52}$, co za tym idzie liczby maszynowe w przedziale [1,2] są rozmieszcozne równomiernie."
   ]
  },
  {
   "cell_type": "code",
   "execution_count": 22,
   "metadata": {},
   "outputs": [
    {
     "name": "stdout",
     "output_type": "stream",
     "text": [
      "1/2 bitowo: 0011111111100000000000000000000000000000000000000000000000000000\n",
      "1   bitowo: 0011111111110000000000000000000000000000000000000000000000000000\n",
      "2   bitowo: 0100000000000000000000000000000000000000000000000000000000000000\n",
      "4   bitowo: 0100000000010000000000000000000000000000000000000000000000000000\n"
     ]
    }
   ],
   "source": [
    "println(\"1/2 bitowo: \", bitstring(0.5))\n",
    "println(\"1   bitowo: \", bitstring(1.0))\n",
    "println(\"2   bitowo: \", bitstring(2.0))\n",
    "println(\"4   bitowo: \", bitstring(4.0))"
   ]
  },
  {
   "cell_type": "markdown",
   "metadata": {},
   "source": [
    "Dla każdego przedziału $[2^{c}, 2^{c+1}]$ gdzie $c\\in{-1022, -1021, ... ,1023}$ rozkład kolejncyh liczb maszynowych jest stały, ponieważ pomiędzy kolejnymi liczbami różnica w wartosci mantysy jest stała, natomiast poprzez sposób liczenia wartości liczby w IEEE-754, to jest $s* 2^{c} * m_t$ róznice w wartosćiach liczb maszynowych rośnie wraz ze wzrostem cechy. "
   ]
  },
  {
   "cell_type": "markdown",
   "metadata": {},
   "source": [
    "### Zadanie 4\n",
    "* Postaramy się rozwiązać a) i b) za jednym razem. "
   ]
  },
  {
   "cell_type": "code",
   "execution_count": 26,
   "metadata": {},
   "outputs": [
    {
     "name": "stdout",
     "output_type": "stream",
     "text": [
      "1.000000057228997\n"
     ]
    }
   ],
   "source": [
    "x = Float64(1.0)\n",
    "while Float64(x * Float64(Float64(1.0)/x)) == Float64(1.0) # Float64 in case this will be run on a computer with 32 bit architecture\n",
    "    x = nextfloat(x)\n",
    "end\n",
    "\n",
    "println(x)"
   ]
  },
  {
   "cell_type": "code",
   "execution_count": null,
   "metadata": {},
   "outputs": [],
   "source": [
    "# In case if upper cell is calculating too long, result and proof:\n",
    "1.000000057228997*(1/1.000000057228997)\n"
   ]
  },
  {
   "cell_type": "markdown",
   "metadata": {},
   "source": [
    "### Zadanie 5\n"
   ]
  }
 ],
 "metadata": {
  "kernelspec": {
   "display_name": "Julia 1.5.2",
   "language": "julia",
   "name": "julia-1.5"
  },
  "language_info": {
   "file_extension": ".jl",
   "mimetype": "application/julia",
   "name": "julia",
   "version": "1.5.2"
  }
 },
 "nbformat": 4,
 "nbformat_minor": 4
}
