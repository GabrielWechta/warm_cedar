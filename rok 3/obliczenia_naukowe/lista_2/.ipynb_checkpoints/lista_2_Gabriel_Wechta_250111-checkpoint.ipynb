{
 "cells": [
  {
   "cell_type": "markdown",
   "metadata": {},
   "source": [
    "# Lista 2\n"
   ]
  },
  {
   "cell_type": "markdown",
   "metadata": {},
   "source": [
    "### Zadanie 1\n",
    "* Pełni wigoru powtórzymy zadanie 5 z listy 1. Następnie przeanalizujemy wpływ tak małej zmiany (jak zmiana ostatnich cyfr) na wynik."
   ]
  },
  {
   "cell_type": "code",
   "execution_count": 1,
   "metadata": {},
   "outputs": [
    {
     "data": {
      "text/plain": [
       "biggest_to_smallest_sum (generic function with 1 method)"
      ]
     },
     "execution_count": 1,
     "metadata": {},
     "output_type": "execute_result"
    }
   ],
   "source": [
    "### Identyczny kod jak ostatnio ###\n",
    "\n",
    "function front_sum(A, B, size, breed) # frontward\n",
    "    sum = breed(0.0)\n",
    "    for i in 1:size\n",
    "        sum += breed(A[i]) * breed(B[i])\n",
    "    end\n",
    "    return sum\n",
    "end\n",
    "\n",
    "function back_sum(A, B, size, breed) # backward\n",
    "    sum = breed(0.0)\n",
    "    for i in size:-1:1\n",
    "        sum += breed(A[i]) * breed(B[i])\n",
    "    end\n",
    "    return sum\n",
    "end\n",
    "\n",
    "function sum_helper(NewA, breed) # help function, beacuse I am not sure how does Base.sum work\n",
    "    sum = breed(0.0)\n",
    "    for i in 1:size(NewA)[1]\n",
    "        sum += NewA[i]\n",
    "    end\n",
    "    return sum\n",
    "end\n",
    "\n",
    "function smallest_to_biggest_sum(A, B, size, breed) \n",
    "    P = []\n",
    "    N = []\n",
    "    for i in 1:size\n",
    "        mult = breed(A[i]) * breed(B[i]) # simulated dot product\n",
    "        if mult >= 0 # positive mults go to positive array, same with negative, they go to negative\n",
    "            append!(P, mult)\n",
    "        else \n",
    "            append!(N, mult)\n",
    "        end\n",
    "    end\n",
    "    P = sort(P, rev = true)\n",
    "    N = sort(N, rev = true)\n",
    "    positive = sum_helper(P, breed)\n",
    "    negative = sum_helper(N, breed)\n",
    "    return breed(positive + negative)\n",
    "end\n",
    "\n",
    "function biggest_to_smallest_sum(A, B, size, breed)\n",
    "    P = []\n",
    "    N = []\n",
    "    for i in 1:size\n",
    "        mult = breed(A[i]) * breed(B[i]) # simulated dot product\n",
    "        if mult >= 0 # positive mults go to positive array, same with negative, they go to negative\n",
    "            append!(P, mult)\n",
    "        else \n",
    "            append!(N, mult)\n",
    "        end\n",
    "    end\n",
    "    P = sort(P)\n",
    "    N = sort(N)\n",
    "    positive = sum_helper(P, breed)\n",
    "    negative = sum_helper(N, breed)\n",
    "    return breed(positive + negative)\n",
    "end"
   ]
  },
  {
   "cell_type": "code",
   "execution_count": 5,
   "metadata": {},
   "outputs": [
    {
     "name": "stdout",
     "output_type": "stream",
     "text": [
      "by LinearAlgebra: \n",
      "Float64: -0.004296342739891585\n",
      "frontward sum:\n",
      "Float32: -0.4999443\n",
      "Float64: -0.004296342739891585\n",
      "backward sum:\n",
      "Float32: -0.4543457\n",
      "Float64: -0.004296342998713953\n",
      "biggest to smallest sum:\n",
      "Float32: -0.5\n",
      "Float64: -0.004296342842280865\n",
      "smallest to biggest sum:\n",
      "Float32: -0.5\n",
      "Float64: -0.004296342842280865\n"
     ]
    }
   ],
   "source": [
    "using LinearAlgebra\n",
    "A = [2.718281828, -3.141592654, 1.414213562, 0.577215664, 0.301029995]\n",
    "B = [1486.2497, 878366.9879, -22.37492, 4773714.647, 0.000185049]\n",
    "\n",
    "println(\"by LinearAlgebra: \")\n",
    "println(\"Float64: \", dot(A,B))\n",
    "println(\"frontward sum:\")\n",
    "println(\"Float32: \",front_sum(A,B,5, Float32))\n",
    "println(\"Float64: \",front_sum(A,B,5, Float64))\n",
    "# println(front_sum(A,B,5, BigFloat))\n",
    "println(\"backward sum:\")\n",
    "println(\"Float32: \",back_sum(A,B,5, Float32))\n",
    "println(\"Float64: \",back_sum(A,B,5, Float64))\n",
    "# println(back_sum(A,B,5, BigFloat))\n",
    "println(\"biggest to smallest sum:\")\n",
    "println(\"Float32: \",biggest_to_smallest_sum(A,B,5, Float32))\n",
    "println(\"Float64: \",biggest_to_smallest_sum(A,B,5, Float64))\n",
    "println(\"smallest to biggest sum:\")\n",
    "println(\"Float32: \",smallest_to_biggest_sum(A,B,5, Float32))\n",
    "println(\"Float64: \",smallest_to_biggest_sum(A,B,5, Float64))"
   ]
  },
  {
   "cell_type": "markdown",
   "metadata": {},
   "source": [
    "Wyniki z porpzedniej listy:\n",
    "\n",
    "by LinearAlgebra: \n",
    "\n",
    "Float64: 1.0251881368296672e-10\n",
    "\n",
    "frontward sum:\n",
    "\n",
    "Float32: -0.4999443\n",
    "\n",
    "Float64: 1.0251881368296672e-10\n",
    "\n",
    "backward sum:\n",
    "\n",
    "Float32: -0.4543457\n",
    "\n",
    "Float64: -1.5643308870494366e-10\n",
    "\n",
    "biggest to smallest sum:\n",
    "\n",
    "Float32: -0.5\n",
    "\n",
    "Float64: 0.0\n",
    "\n",
    "smallest to biggest sum:\n",
    "\n",
    "Float32: -0.5\n",
    "\n",
    "Float64: 0.0"
   ]
  },
  {
   "cell_type": "markdown",
   "metadata": {},
   "source": [
    "Wyniki zmieniły się tylko dla Float64 co jest zrozumiałe ze wzgledu na to, że prezcyzja liczb w wektorze jest większa niż przecyzja Float32. Na przykład:"
   ]
  },
  {
   "cell_type": "code",
   "execution_count": 7,
   "metadata": {},
   "outputs": [
    {
     "data": {
      "text/plain": [
       "0.5772157f0"
      ]
     },
     "execution_count": 7,
     "metadata": {},
     "output_type": "execute_result"
    }
   ],
   "source": [
    "Float32(0.5772156649)"
   ]
  },
  {
   "cell_type": "markdown",
   "metadata": {},
   "source": [
    "Dla Float64 wyniki zmieniły się znacznie. Na przykład w przypadku standardowej sumy aż o 8 miejsc znaczących! Co dużo pokazuje o uwarunkowaniu zadania 5."
   ]
  },
  {
   "cell_type": "markdown",
   "metadata": {},
   "source": [
    "### Zadanie 2\n",
    "* Pokażemy dziwne zachowanie wykresu funkcji $e^x\\ln(1 + e^{-x})$ na trzech róznych oprogramowaniach do rysowania wykresów funkcji.\n",
    "* Policzymy granicę funkcji.\n",
    "* Wyjaśnimy jej nietypowe zachowanie."
   ]
  },
  {
   "cell_type": "markdown",
   "metadata": {},
   "source": [
    "wolfram alpha:\n",
    "![wolfram](wolfram.png)\n",
    "\n",
    "demos:\n",
    "![demos](demos.png)\n",
    "\n",
    "pyplot:\n",
    "![pyplot](pyplot.png)\n",
    "\n",
    "Jak widzimy wolfram i pyplot usilnie próbują uciąglić funkcję kiedy demos daje za wygraną."
   ]
  },
  {
   "cell_type": "markdown",
   "metadata": {},
   "source": [
    "Korzystając z reguły de l'Hospitala (i wolframa) wyliczamy, że $\\lim_{x \\to \\infty} f(x) = 1$. Każdy wykres sugeruje, że granicą jest $0$. Bazując na wykresach widizmy, że dla $x\\geq40$ $f(x) = 0$."
   ]
  },
  {
   "cell_type": "markdown",
   "metadata": {},
   "source": [
    "\n"
   ]
  },
  {
   "cell_type": "code",
   "execution_count": null,
   "metadata": {},
   "outputs": [],
   "source": []
  },
  {
   "cell_type": "markdown",
   "metadata": {},
   "source": [
    "### Zadanie 4\n",
    "*  Policzymy $|P(z_k)|$, $|p(z_k)|$ i $|z_k − k|$, gdzie $z_k$ to pierwiastek wielomianu $P$."
   ]
  },
  {
   "cell_type": "code",
   "execution_count": 7,
   "metadata": {
    "scrolled": true
   },
   "outputs": [
    {
     "name": "stdout",
     "output_type": "stream",
     "text": [
      "Polynomial(2.43290200817664e18 - 8.7529480367616e18*x + 1.3803759753640704e19*x^2 - 1.2870931245150988e19*x^3 + 8.037811822645051e18*x^4 - 3.599979517947607e18*x^5 + 1.2066478037803732e18*x^6 - 3.1133364316139066e17*x^7 + 6.30308120992949e16*x^8 - 1.014229986551145e16*x^9 + 1.307535010540395e15*x^10 - 1.3558518289953e14*x^11 + 1.1310276995381e13*x^12 - 7.561111845e11*x^13 + 4.017177163e10*x^14 - 1.67228082e9*x^15 + 5.3327946e7*x^16 - 1.25685e6*x^17 + 20615.0*x^18 - 210.0*x^19 + 1.0*x^20)\n",
      "Polynomial(2432902008176640000 - 8752948036761600000*x - 4642984320068847616*x^2 + 5575812828558562816*x^3 + 8037811822645051776*x^4 - 3599979517947607200*x^5 + 1206647803780373360*x^6 - 311333643161390640*x^7 + 63030812099294896*x^8 - 10142299865511450*x^9 + 1307535010540395*x^10 - 135585182899530*x^11 + 11310276995381*x^12 - 756111184500*x^13 + 40171771630*x^14 - 1672280820*x^15 + 53327946*x^16 - 1256850*x^17 + 20615*x^18 - 210*x^19 + x^20)\n",
      "z_1 - 1: 3.0109248427834245e-13\n",
      "P (z_1) = 35696.50964788257\n",
      "P'(z_1) = 35696.50964788257\n",
      "p (z_1) = 5.518479490350445e6\n",
      "\n",
      "z_2 - 2: 2.8318236644508943e-11\n",
      "P (z_2) = 176252.60026668405\n",
      "P'(z_2) = 176252.60026668405\n",
      "p (z_2) = 7.37869762990174e19\n",
      "\n",
      "z_3 - 3: 4.0790348876384996e-10\n",
      "P (z_3) = 279157.6968824087\n",
      "P'(z_3) = 279157.6968824087\n",
      "p (z_3) = 3.3204139316875795e20\n",
      "\n",
      "z_4 - 4: 1.626246826091915e-8\n",
      "P (z_4) = 3.0271092988991085e6\n",
      "P'(z_4) = 3.0271092988991085e6\n",
      "p (z_4) = 8.854437035384718e20\n",
      "\n",
      "z_5 - 5: 6.657697912970661e-7\n",
      "P (z_5) = 2.2917473756567076e7\n",
      "P'(z_5) = 2.611747418265974e7\n",
      "p (z_5) = 1.8446752056545688e21\n",
      "\n",
      "z_6 - 6: 1.0754175226779239e-5\n",
      "P (z_6) = 1.2902417284205095e8\n",
      "P'(z_6) = 1.9471570309880203e8\n",
      "p (z_6) = 3.320394888870117e21\n",
      "\n",
      "z_7 - 7: 0.00010200279300764947\n",
      "P (z_7) = 4.805112754602064e8\n",
      "P'(z_7) = 1.8143790320679333e9\n",
      "p (z_7) = 5.423593016891273e21\n",
      "\n",
      "z_8 - 8: 0.0006441703922384079\n",
      "P (z_8) = 1.6379520218961136e9\n",
      "P'(z_8) = 1.879440622667089e10\n",
      "p (z_8) = 8.262050140110275e21\n",
      "\n",
      "z_9 - 9: 0.002915294362052734\n",
      "P (z_9) = 4.877071372550003e9\n",
      "P'(z_9) = 1.6661338358817935e11\n",
      "p (z_9) = 1.196559421646277e22\n",
      "\n",
      "z_10 - 10: 0.009586957518274986\n",
      "P (z_10) = 1.3638638195458128e10\n",
      "P'(z_10) = 1.1833350431243818e12\n",
      "p (z_10) = 1.655260133520688e22\n",
      "\n",
      "z_11 - 11: 0.025022932909317674\n",
      "P (z_11) = 3.585631295130865e10\n",
      "P'(z_11) = 7.644568036135122e12\n",
      "p (z_11) = 2.24783329792479e22\n",
      "\n",
      "z_12 - 12: 0.04671674615314281\n",
      "P (z_12) = 7.533332360358197e10\n",
      "P'(z_12) = 3.54357522110354e13\n",
      "p (z_12) = 2.886944688412679e22\n",
      "\n",
      "z_13 - 13: 0.07431403244734014\n",
      "P (z_13) = 1.9605988124330817e11\n",
      "P'(z_13) = 1.94419472969891e14\n",
      "p (z_13) = 3.807325552826988e22\n",
      "\n",
      "z_14 - 14: 0.08524440819787316\n",
      "P (z_14) = 3.5751347823104315e11\n",
      "P'(z_14) = 6.347361669504434e14\n",
      "p (z_14) = 4.612719853150334e22\n",
      "\n",
      "z_15 - 15: 0.07549379969947623\n",
      "P (z_15) = 8.21627123645597e11\n",
      "P'(z_15) = 2.9080938967124815e15\n",
      "p (z_15) = 5.901011420218566e22\n",
      "\n",
      "z_16 - 16: 0.05371328339202819\n",
      "P (z_16) = 1.5514978880494067e12\n",
      "P'(z_16) = 8.451350129316409e15\n",
      "p (z_16) = 7.010874106897764e22\n",
      "\n",
      "z_17 - 17: 0.025427146237412046\n",
      "P (z_17) = 3.694735918486229e12\n",
      "P'(z_17) = 2.932419527713697e16\n",
      "p (z_17) = 8.568905825736165e22\n",
      "\n",
      "z_18 - 18: 0.009078647283519814\n",
      "P (z_18) = 7.650109016515867e12\n",
      "P'(z_18) = 8.363096469035245e16\n",
      "p (z_18) = 1.0144799361044434e23\n",
      "\n",
      "z_19 - 19: 0.0019098182994383706\n",
      "P (z_19) = 1.1435273749721195e13\n",
      "P'(z_19) = 2.363082454460757e17\n",
      "p (z_19) = 1.1990376202371257e23\n",
      "\n",
      "z_20 - 20: 0.00019070876336257925\n",
      "P (z_20) = 2.7924106393680727e13\n",
      "P'(z_20) = 6.24904568336936e17\n",
      "p (z_20) = 1.4019117414318134e23\n",
      "\n"
     ]
    }
   ],
   "source": [
    "using Polynomials\n",
    "\n",
    "natural = Polynomial(reverse([1, -210.0, 20615.0,-1256850.0,\n",
    "      53327946.0,-1672280820.0, 40171771630.0, -756111184500.0,          \n",
    "      11310276995381.0, -135585182899530.0,\n",
    "      1307535010540395.0,     -10142299865511450.0,\n",
    "      63030812099294896.0,     -311333643161390640.0,\n",
    "      1206647803780373360.0,     -3599979517947607200.0,\n",
    "      8037811822645051776.0,      -12870931245150988800.0,\n",
    "      13803759753640704000.0,      -8752948036761600000.0,\n",
    "      2432902008176640000.0]))\n",
    "println(natural)\n",
    "wilkinson = fromroots([i for i in 1:20])\n",
    "println(wilkinson)\n",
    "\n",
    "disturbed_wilkinson = Polynomial(reverse([1, -210.0 - 2^-23, 20615.0,-1256850.0,\n",
    "      53327946.0,-1672280820.0, 40171771630.0, -756111184500.0,          \n",
    "      11310276995381.0, -135585182899530.0,\n",
    "      1307535010540395.0,     -10142299865511450.0,\n",
    "      63030812099294896.0,     -311333643161390640.0,\n",
    "      1206647803780373360.0,     -3599979517947607200.0,\n",
    "      8037811822645051776.0,      -12870931245150988800.0,\n",
    "      13803759753640704000.0,      -8752948036761600000.0,\n",
    "      2432902008176640000.0]))\n",
    "z_array = roots(natural) # getting natural's zeroes.\n",
    "\n",
    "\n",
    "for (k , z) in enumerate(z_array)\n",
    "    println(\"z_\", k ,\" - \", k, \": \", abs(z - k))\n",
    "    println(\"P (z_\", k , \") = \", abs(natural(z)))\n",
    "    println(\"P'(z_\", k , \") = \", abs(disturbed_wilkinson(z)))\n",
    "    println(\"p (z_\", k , \") = \", abs(wilkinson(z)))\n",
    "    println()\n",
    "end"
   ]
  },
  {
   "cell_type": "markdown",
   "metadata": {},
   "source": [
    "Jak zwykle rozbieżność w wynikach pochodzi z dokładności z jaką możemy reprezentować liczby rzeczywiste w dość rzadkim zbiorze liczb maszynowych. Każdy błąd, nawet najmniejszy, powiela się na kolejne operacje. Widzimy, że różnica pomiędzy $z_1$ i $1$ jest minimalna, niemniej wartość wyrażenia $P(z_1) = 35696.50964788257$, powinno być $0$. Innymi słowo, 13 cyfra po przecinku wygerenowała wynik bardzo odległy od spodziewanego w wielomianie którego współczynniki są typu zmiennoprzecinkowego. Dużo gorzej radzi sobie za to wielomian $p$, którego wpółczynniki są trzymane w zmiennych typu całkowitego. Dla większości wartości argumentu otrzymujemy liczby o 20 cyfrach powyżej zera.\n",
    "\n",
    "Wielomian $P'$ mający odrobinę zmieniony współczynnik przy $x^{19}$ zaczyna się różnić od $P$ już przy $z_5$. Przekazując coraz większe liczby jako \"miejsca zerowe\" skala błędów zaczyna się coraz bardziej nawarstwiać. Dla $z_{20}$ już dla wszystkich wielomianów dostajemy liczby rzędu $10^{13}$ i większe."
   ]
  },
  {
   "cell_type": "code",
   "execution_count": null,
   "metadata": {},
   "outputs": [],
   "source": []
  }
 ],
 "metadata": {
  "kernelspec": {
   "display_name": "Julia 1.5.2",
   "language": "julia",
   "name": "julia-1.5"
  },
  "language_info": {
   "file_extension": ".jl",
   "mimetype": "application/julia",
   "name": "julia",
   "version": "1.5.2"
  }
 },
 "nbformat": 4,
 "nbformat_minor": 4
}
