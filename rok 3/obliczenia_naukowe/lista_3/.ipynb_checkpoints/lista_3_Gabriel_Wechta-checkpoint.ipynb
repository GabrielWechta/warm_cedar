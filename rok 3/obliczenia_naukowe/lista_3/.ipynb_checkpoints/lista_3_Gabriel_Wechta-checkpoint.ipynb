{
 "cells": [
  {
   "cell_type": "markdown",
   "metadata": {},
   "source": [
    "# Lista 3\n",
    "### Gabriel Wechta 250111"
   ]
  },
  {
   "cell_type": "markdown",
   "metadata": {},
   "source": [
    "### Zadanie 1\n",
    "* Mamy zaimplementować funckję _mbisekcji_ rozwiązującą równanie $f(r) = 0$, dla $f : \\mathbb{R} \\mapsto \\mathbb{R}$, oraz $r \\in \\mathbb{R}$ metodą bisekcji (połowienia przedziału).\n",
    "* Założenia dotyczące funkcji:\n",
    "    * $f$ jest funkcją ciągłą w $[a, b]$ i $f(a)f(b) < 0$.\n",
    "* Nowy koniec przedziału $c_n$ zadany jest wzorem:\n",
    "    * $c_n = \\frac{1}{2}(a_n + b_n)$ dla $(n \\geq 0)$\n",
    "* Warunki końca, alternatywne:\n",
    "    * $|b_n - a_n| \\lt \\delta$\n",
    "    * $|f(c_n)| \\lt \\epsilon$"
   ]
  },
  {
   "cell_type": "markdown",
   "metadata": {},
   "source": [
    "### Omówienie metody bisekcji:\n",
    "Korzystamy z tego, że funkcja na końcach przedziału ma różne znaki, co oznacza, że pomiędzy tymi punktami zmienia znak, co oznacza, że istnieje pomiędzy nimi miejsce zerowe. Powyższe rozumowanie stosujemy do coraz mniejszych przedziałów, dbając o to, żeby nowy, mniejszy przedział zachował własność róznych znaków funkcji na jego końcach. Takie iteracyjne zmniejszanie przedziału gwarantuje nam, że miejsce zerowe jest wewnątrz tego przedziału. W tym przypadku dzielimy przedział na dwie części, co realizujemy poprzez policzenie $c = \\frac{a+b}{2}$ i ustanowienie $c$ nowym końcem jednego z przedziałów tj. $a=c$ lub $b=c$."
   ]
  },
  {
   "cell_type": "markdown",
   "metadata": {},
   "source": [
    "zdjecie"
   ]
  },
  {
   "cell_type": "code",
   "execution_count": 1,
   "metadata": {},
   "outputs": [
    {
     "data": {
      "text/plain": [
       "mbisekcji (generic function with 1 method)"
      ]
     },
     "execution_count": 1,
     "metadata": {},
     "output_type": "execute_result"
    }
   ],
   "source": [
    "function mbisekcji(f, a::Float64, b::Float64, delta::Float64, epsilon::Float64)\n",
    "    \"\"\"\n",
    "    Funckja wykorzystuje metodę bisekcji\n",
    "    Dane:\n",
    "    f - badana funkcja,\n",
    "    a, b - grancie badanego przedziału,\n",
    "    delta - dokładność, odległość rozwiązania od rzeczywsitego rozwiązania,\n",
    "    epsilon - dokładność, akceptowana odległość od zera.\n",
    "    Wyniki:\n",
    "    Funckja mbisekjca zwraca krotkę (r, v, it, err)\n",
    "    r – przybliżenie pierwiastka równania f(x) = 0,\n",
    "    v – wartość f(r),\n",
    "    it – liczba wykonanych iteracji,\n",
    "    err – błąd:\n",
    "        0 - brak błędu\n",
    "        1 - funkcja nie zmienia znaku w przedziale [a,b]\n",
    "    \"\"\"\n",
    "    u = f(a) # liczymy wartości na końcach przedziału\n",
    "    v = f(b)\n",
    "    e = b - a # liczymy długość przedziału, będzie potrzebna dalej\n",
    "    if sign(u) == sign(v) # jeżeli końce przedziału mają ten sam znak, to algorytm nie ma prawa zadziałać. Zwracamy błąd\n",
    "        return (0, 0, 0, 1)\n",
    "    end\n",
    "    k = 0 # zmienna licząca iteracje\n",
    "    while true # można byłoby dodać tutaj maksymalną liczbę iteracji, niemniej definicja funkcji z zadnia nie uwzględnia tego\n",
    "        k += 1\n",
    "        # następujący sposób liczenia środka przedziału jest polecany przez Kincaida i Chemneya, \n",
    "        # ze względu na istnienie szansy na wyjście z przedziału przy liczeniu go wzorem c = (a + b)/2 \n",
    "        e = e/2.0 \n",
    "        c = a + e\n",
    "        w = f(c)\n",
    "        if abs(e) < delta || abs(w) < epsilon # warunki końca\n",
    "            return(c, w, k, 0)\n",
    "        end\n",
    "        if sign(w) != sign(u)\n",
    "            b = c\n",
    "            v = w\n",
    "        else\n",
    "            a = c\n",
    "            u = w\n",
    "        end\n",
    "    end\n",
    "end     "
   ]
  },
  {
   "cell_type": "markdown",
   "metadata": {},
   "source": [
    "Błąd przybliżenia miejsca zerowego funckji $f$ za pomocą metody bisekcji szacujemy tak:\n",
    "\n",
    "$|x_0 - c_n| \\leq 2^{-(n+1)}(b_0 - a_0)$,\n",
    "\n",
    "gdzie: \n",
    "* $x_0$ - faktyczne miejsce zerowe funkcji,\n",
    "* $c_n$ - środek przedziału uzyskanego w $n$-tej iteracji,\n",
    "* $[a_0, b_0]$ - przedział początkowy.\n",
    "\n",
    "### Wnioski:\n",
    "\n",
    "Zaletą metody bisekcji jest to, że w każdej iteracji przedział, w którym szukamy zera maleje o stałą wartość, tj. dwukrotnie.\n",
    "Kincaid i Cheney w \"Analizie numerycznej\" zwracają jeszcze uwagę na sytuację, w której nowo policzony środek przedziału stanowi zero funkcji. Należy zauważyć, że algorytm w żadnym miejscu nie sprawdza, czy nie natrafił na faktyczne zero. Jest to usprawiedliwione tym, że w ogólnym przypadku szansa natrafienia na takie $c$, żeby $f(c) = 0$ jest bardzo mała (nawet przy ograniczonej gęstości liczb maszynowych), a sprawdzanie tego warunku nakłada na każdą iterację kolejny koszt operacyjny porównania. "
   ]
  },
  {
   "cell_type": "markdown",
   "metadata": {},
   "source": [
    "### Zadanie 1 - testy"
   ]
  },
  {
   "cell_type": "code",
   "execution_count": 2,
   "metadata": {},
   "outputs": [
    {
     "name": "stdout",
     "output_type": "stream",
     "text": [
      "3x+3 (-0.9999971389770508, 8.58306884765625e-6, 20, 0) wartość oczekiwana = -1.\n",
      "Błąd bezwzględny = 2.86102294921875e-6\n",
      "\n",
      "sin(x) (3.1415939331054688, -1.2795156755111882e-6, 18, 0) wartość oczekiwana = 3.141592653589793.\n",
      "Błąd bezwzględny = 1.279515675634002e-6\n",
      "\n",
      "10x^5 - 1.6x^4 - 2.5x^2 + x (3.814697265625e-6, 3.8146608858369287e-6, 16, 0) wartość oczekiwana = 0.\n",
      "Błąd bezwzględny = 3.814697265625e-6\n",
      "\n",
      "1.6x^4 - 2.5x^2 + x (3.814697265625e-6, 3.8146608858369295e-6, 16, 0) wartość oczekiwana = 0.\n",
      "Błąd bezwzględny = 3.814697265625e-6\n"
     ]
    }
   ],
   "source": [
    "#funckja liniowa:\n",
    "f(x) = 3x + 3\n",
    "d = 0.5*10^-5\n",
    "e = 0.5*10^-5\n",
    "val, _, _, _ = mbisekcji(f, -3.0, 2.0, d, e)\n",
    "println(\"3x+3 \", mbisekcji(f, -3.0, 2.0, d, e), \" wartość oczekiwana = -1.\", \"\\nBłąd bezwzględny = \", abs(val - (-1))) \n",
    "println()\n",
    "\n",
    "#funckja sin(x):\n",
    "f(x) = sin(x)\n",
    "d = 0.5*10^-5\n",
    "e = 0.5*10^-5\n",
    "val, _, _, _ = mbisekcji(f, 2.0, 4.0, d, e)\n",
    "println(\"sin(x) \", mbisekcji(f, 2.0, 4.0, d, e), \" wartość oczekiwana = 3.141592653589793.\", \"\\nBłąd bezwzględny = \", abs(val - 3.141592653589793)) \n",
    "println()\n",
    "\n",
    "#funckja wielomianowa:\n",
    "f(x) = 10x^5 - 1.6x^4 - 2.5x^2 + x\n",
    "d = 0.5*10^-5\n",
    "e = 0.5*10^-5\n",
    "val, _, _, _ = mbisekcji(f, -1.0, 0.25, d, e)\n",
    "println(\"10x^5 - 1.6x^4 - 2.5x^2 + x \", mbisekcji(f, -1.0, 0.25, d, e), \" wartość oczekiwana = 0.\", \"\\nBłąd bezwzględny = \", abs(val - 0)) \n",
    "println()\n",
    "\n",
    "#funckja wielomianowa 2:\n",
    "f(x) = 1.6x^4 - 2.5x^2 + x\n",
    "d = 0.5*10^-5\n",
    "e = 0.5*10^-5\n",
    "val, _, _, _ = mbisekcji(f, -1.0, 0.25, d, e)\n",
    "println(\"1.6x^4 - 2.5x^2 + x \", mbisekcji(f, -1.0, 0.25, d, e), \" wartość oczekiwana = 0.\", \"\\nBłąd bezwzględny = \", abs(val - 0)) "
   ]
  },
  {
   "cell_type": "markdown",
   "metadata": {},
   "source": [
    "### Komentarz do testów:\n",
    "Testy w zasadzie mają tylko pokazać poprawność implementacji algorytmu. Wyniki zagadzają się z oczekiwaniami. Szybko, tj. w kilkunasty iteracjach algorytm oktrzymuje oczekiwane przybliżenie dla wszystkich testowanych funkcji ($\\frac{1}{2}\\cdot10^{-5}$). Chciałbym jeszcze zwrócić uwagę na to, że wielomian $w_1(x) = 10x^5 - 1.6x^4 - 2.5x^2 + x$ jak i $w_2(x) = 1.6x^4 - 2.5x^2 + x$ mające zera w $0$ otrzymują identyczny wynik, choć są to różne wielomiany. Ten przykład pokazuje, że działanie algorytmu bisekcji nie zależy stricte od funkcji jaka jest nim badana, a od zadanego przedziałuc na którym funkcje badamy, zadanych warunków końca oraz istnienia miejsca zerowego w tym przedziale."
   ]
  },
  {
   "cell_type": "markdown",
   "metadata": {},
   "source": [
    "### Zadanie 2\n",
    "* Mamy zaimplementować funckję _mstycznych_ rozwiązującą równanie $f(r) = 0$, dla $f : \\mathbb{R} \\mapsto \\mathbb{R}$, oraz $r \\in \\mathbb{R}$, gdzie $r$ jest pierwiatkiem jednokrotnym, metodą Newtona (Newtona-Raphsona). Na ogół metoda Newtona jest szybsza od metod bisekcji i siecznych.\n",
    "* Założenia dotyczące funkcji:\n",
    "    * $f$ jest funkcją ciągłą w $[a, b]$ oraz $f$ ma pochodną $f'$ na $[a, b]$.\n",
    "* Przybliżenie dane jest wzorem:\n",
    "    * $x_{n+1} = x_n - \\frac{f(x_n)}{f'(x_n)}$, dla $n \\geq 0$ \n",
    "* Warunki końca, alternatywnie:\n",
    "    * $|x_{n+1} - x_n| \\leq \\delta$\n",
    "    * $|f(x_{n+1})| \\leq \\epsilon$\n",
    "    * liczba iteracji przekroczy $M$"
   ]
  },
  {
   "cell_type": "markdown",
   "metadata": {},
   "source": [
    "### Omówienie metody Newtona:\n",
    "Metoda Newtona, też zwaną metodą stycznych, polega na linearyzacji $l$ funckji $f$ w pobliżu badanego punktu $c$ przy pomocy dwóch pierwszych wyrazów rozwinięcia funckji $f$ w szereg Taylora. Następnie liczone jest miejsce zerowe $x$ funkcji $l$ i to miejsce $x$ stanowi nowe $c$.\n",
    "\n",
    "Na ogół metoda Newtona jest znacznie szybsza od metod bisekcji i siecznych, ponieważ jej zbieżność jest kwadratowa kiedy zbieżność bisekcji jest liniowa a siecznych nadliniowa. Niestety metoda Newtona nie zawsze jest zbieżna, dlatego z reguły stosuje się synergię metody Newtona z jakąś inną metodą zbieżną globalnie.\n",
    "\n",
    "Istnieje niebezpieczeństwo, że jeżeli punkt początkowy jest za daleko faktycnzego miejsca zerowego funkcji lub funckja ma nieodpowiedni kształt (na przykład _arctg(x)_ ) i niefortunnie wybrany punkt początkowy (ten sam przykład $x \\lt -\\pi$ ) metoda Newtona zawodzi (przykład poniżej w testach)."
   ]
  },
  {
   "cell_type": "code",
   "execution_count": 3,
   "metadata": {},
   "outputs": [
    {
     "data": {
      "text/plain": [
       "mstycznych (generic function with 1 method)"
      ]
     },
     "execution_count": 3,
     "metadata": {},
     "output_type": "execute_result"
    }
   ],
   "source": [
    "function mstycznych(f, pf, x0::Float64, delta::Float64, epsilon::Float64, maxit::Int)\n",
    "    \"\"\"\n",
    "    Funkcja wykorzystuje metodę Newtona\n",
    "    Dane:\n",
    "    f, pf – funkcją f(x) oraz pochodna f\n",
    "    x0 – przybliżenie początkowe,\n",
    "    delta,epsilon – dokładności obliczeń,\n",
    "    maxit – maksymalna dopuszczalna liczba iteracji.\n",
    "    \n",
    "    Wyniki:\n",
    "    Funkcja mstycznych zwraca krotkę (r,v,it,err). \n",
    "    r – przybliżenie pierwiastka równania f(x) = 0,\n",
    "    v – wartość f(r),\n",
    "    it – liczba wykonanych iteracji,\n",
    "    err – sygnalizacja błędu\n",
    "        0 - metoda zbieżna\n",
    "        1 - nie osiągnięto wymaganej dokładności w maxit iteracji,\n",
    "        2 - pochodna bliska zeru\n",
    "    \"\"\"\n",
    "    near_zero = 0.0001 # dobrałem eksperymentalnie \n",
    "    global v = f(x0) # zmienne globalne, aby móc skorzystać z nich w przypadku przekroczenia maxit\n",
    "    global x1 = 0\n",
    "    if abs(v) < epsilon # pierwsze sprawdzenie, czy jesteśmy wystarczająco blisko\n",
    "        return (x0, v, 0, 0)\n",
    "    end\n",
    "    for k in 0:maxit # główna pętla\n",
    "        if abs(pf(x0)) < near_zero # przypadek pochodnej bliskeij zeru\n",
    "            return (x0, v, k, 2)\n",
    "        end\n",
    "        x1 = x0 - v/pf(x0) # nowy punkt\n",
    "        v = f(x1)\n",
    "        if abs(x1 - x0) < delta || abs(v) < epsilon # poprawny warunek końca\n",
    "            return (x1, v, k, 0)\n",
    "        end\n",
    "        x0 = x1\n",
    "    end\n",
    "    return (x1, v, maxit, 1) # w przypadku przekroczenia dozwolonych iteracji\n",
    "end "
   ]
  },
  {
   "cell_type": "markdown",
   "metadata": {},
   "source": [
    "Błąd przybliżenia miejsca zerowego funckji $f$ za pomocą metody Newtona szacujemy tak:\n",
    "\n",
    "${\\displaystyle |x_0-x_{n}|\\leqslant {\\frac {f(x_{n})}{\\min _{{x\\in [a,b]}}|f'(x)|}}}$\n",
    "\n",
    "gdzie: \n",
    "* $x_0$ - faktyczne miejsce zerowe funkcji,\n",
    "* $x_n$ - $n$-te przybliżenie $x_0$\n",
    "* $f$ - badana funkcja\n",
    "* $f'$ - pochodna badanej funkcji\n",
    "* $[a, b]$ - przedział początkowy.\n",
    "\n",
    "### Wnioski:\n",
    "\n",
    "Największą wadą metody Newtona jest potrzeba znania pierwszej pochodnej badanej funkcji, jako, że nie każda funkcja ma pochodną znacząco ogranicza to liczbę funkcji do jakich metodę Newtona możemy zastosować. "
   ]
  },
  {
   "cell_type": "markdown",
   "metadata": {},
   "source": [
    "### Zadanie 2 - testy"
   ]
  },
  {
   "cell_type": "code",
   "execution_count": 4,
   "metadata": {},
   "outputs": [
    {
     "name": "stdout",
     "output_type": "stream",
     "text": [
      "f(x) = x^2 - 2 (-1.4142135623746899, 4.510614104447086e-12, 3, 0) wartość oczekiwana = -1.41421356237\n",
      "Błąd bezwzględny = 4.689804100621586e-12\n",
      "\n",
      "f(x) = tan(x) (2.3203694564724597e-10, 2.3203694564724597e-10, 3, 1) wartość oczekiwana = 0.\n",
      "Błąd bezwzględny = 2.3203694564724597e-10\n",
      "\n",
      "f(x) = tan(x) (0.0, 0.0, 4, 0) wartość oczekiwana = 0.\n",
      "Błąd bezwzględny = 0.0\n",
      "\n",
      "f(x) = tan(x) (0.0, 0.0, 7, 0) wartość oczekiwana = 0.\n",
      "Błąd bezwzględny = 0.0\n",
      "\n",
      "f(x) = tan(x) (0.0, 0.0, 22, 0) wartość oczekiwana = 0.\n",
      "Błąd bezwzględny = 0.0\n",
      "\n",
      "f(x) = atan(x) (-158.35290048812834, -1.5644814016869735, 2, 2) wartość oczekiwana = 0.\n",
      "Błąd bezwzględny = 158.35290048812834\n",
      "\n"
     ]
    }
   ],
   "source": [
    "#funckja z kwadratowa (liczenie ujemnego 2^(1/2):\n",
    "f(x) = x^2 - 2\n",
    "pf(x) = 2x\n",
    "x0 = -2.0\n",
    "e = 0.5*10^-10\n",
    "d = 0.5*10^-10\n",
    "maxit = 10\n",
    "val, _, _, _ = mstycznych(f, pf, x0, d, e, maxit)\n",
    "println(\"f(x) = x^2 - 2 \", mstycznych(f, pf, x0, d, e, maxit), \" wartość oczekiwana = -1.41421356237\", \"\\nBłąd bezwzględny = \", abs(val + 1.41421356237)) \n",
    "println()\n",
    "\n",
    "#funckja tangens x0 = 1.0, maxit = 3:\n",
    "f(x) = tan(x)\n",
    "pf(x) = 1/cos(x)^2\n",
    "x0 = 1.0\n",
    "e = 0.5*10^-10\n",
    "d = 0.5*10^-10\n",
    "maxit = 3\n",
    "val, _, _, _ = mstycznych(f, pf, x0, d, e, maxit)\n",
    "println(\"f(x) = tan(x) \", mstycznych(f, pf, x0, d, e, maxit), \" wartość oczekiwana = 0.\", \"\\nBłąd bezwzględny = \", abs(val - 0)) \n",
    "println()\n",
    "\n",
    "#funckja tangens x0 = 1.0, maxit = 4:\n",
    "f(x) = tan(x)\n",
    "pf(x) = 1/cos(x)^2\n",
    "x0 = 1.0\n",
    "e = 0.5*10^-10\n",
    "d = 0.5*10^-10\n",
    "maxit = 4\n",
    "val, _, _, _ = mstycznych(f, pf, x0, d, e, maxit)\n",
    "println(\"f(x) = tan(x) \", mstycznych(f, pf, x0, d, e, maxit), \" wartość oczekiwana = 0.\", \"\\nBłąd bezwzględny = \", abs(val - 0)) \n",
    "println()\n",
    "\n",
    "#funckja tangens x0 = 1.5 ( tan(1.5) = 14.101419947171719), maxit = 10 :\n",
    "f(x) = tan(x)\n",
    "pf(x) = 1/cos(x)^2\n",
    "x0 = 1.5\n",
    "e = 0.5*10^-10\n",
    "d = 0.5*10^-10\n",
    "maxit = 10\n",
    "val, _, _, _ = mstycznych(f, pf, x0, d, e, maxit)\n",
    "println(\"f(x) = tan(x) \", mstycznych(f, pf, x0, d, e, maxit), \" wartość oczekiwana = 0.\", \"\\nBłąd bezwzględny = \", abs(val - 0)) \n",
    "println()\n",
    "\n",
    "#funckja tangens x0 = 1.570794 ( tan(1.570794) = 429775.7406384637), maxit = 100 :\n",
    "f(x) = tan(x)\n",
    "pf(x) = 1/cos(x)^2\n",
    "x0 = 1.570794\n",
    "e = 0.5*10^-10\n",
    "d = 0.5*10^-10\n",
    "maxit = 100\n",
    "val, _, _, _ = mstycznych(f, pf, x0, d, e, maxit)\n",
    "println(\"f(x) = tan(x) \", mstycznych(f, pf, x0, d, e, maxit), \" wartość oczekiwana = 0.\", \"\\nBłąd bezwzględny = \", abs(val - 0)) \n",
    "println()\n",
    "\n",
    "# przykład funkcji ze złym punktem początkowym, arcustangens:\n",
    "f(x) = atan(x)\n",
    "pf(x) = 1/(x^2 +1)\n",
    "x0 = -3.14999\n",
    "e = 0.5*10^-10\n",
    "d = 0.5*10^-10\n",
    "maxit = 100\n",
    "val, _, _, _ = mstycznych(f, pf, x0, d, e, maxit)\n",
    "println(\"f(x) = atan(x) \", mstycznych(f, pf, x0, d, e, maxit), \" wartość oczekiwana = 0.\", \"\\nBłąd bezwzględny = \", abs(val - 0)) \n",
    "println()"
   ]
  },
  {
   "cell_type": "markdown",
   "metadata": {},
   "source": [
    "### Komentarz do testów:\n",
    "* Pierwszy przykład funckji liniowej pokazuje jak szybko metoda Newtona zbiega do dobrego rozwiązania, już po trzech iteracjach dostajemy liczbę, której błąd bezwzgledny w stosunku do rozwiązania jest rzędu $10^{-12}$.\n",
    "* Kolejne 4 przykłady maglują funkcję tangens. Należy zauważyć, że już dla x0 = 1.0 i maxit = 3 metoda Newtona daje fantastyczny wynik rzędu $10^{-10}$. Metoda Newtona radzi sobie nawet z ekstremalnym przypadkiem x0 = 1.570794, już w 22 iteracjach zbiega do 0.0. Przypadek ten jest trudny ponieważ styczna w tym punkcie jest niemal pionowa. Co więcej tangens(1.570797) jest już ujemny.\n",
    "* Ostatni przykład stanowi funkcja, która w badanym punkcie jest niemal równoległa do osi odciętych, co powoduje, że wartość pochodnej w tym punkcie jest bliska 0. "
   ]
  },
  {
   "cell_type": "markdown",
   "metadata": {},
   "source": [
    "### Zadanie 3\n",
    "* Mamy zaimplementować funckję _msiecznych_ rozwiązującą równanie $f(r) = 0$, dla $f : \\mathbb{R} \\mapsto \\mathbb{R}$, oraz $r \\in \\mathbb{R}$ metodą siecznych (metodą Eulera).\n",
    "* Założenia dotyczące funkcji:\n",
    "    * $f$ jest funkcją ciągłą w $[x_0, x_1]$ oraz $f$ ma różne znaki na końcach przedziału $[x_0, x_1]$.\n",
    "* Przybliżenie dane jest wzorem:\n",
    "\n",
    "    * $x_{n+1} = x_n - f(x_n)\\frac{x_n - x_{n-1}}{f(x_n) - f(x_{n-1})}$, dla $n \\geq 1$\n",
    "    \n",
    "* Warunki końca, alternatywnie:\n",
    "    * $|x_{n+1} - x_n| \\leq \\delta$\n",
    "    * $|f(x_{n+1})| \\leq \\epsilon$\n",
    "    * liczba iteracji przekroczy $M$ "
   ]
  },
  {
   "cell_type": "markdown",
   "metadata": {},
   "source": [
    "### Omówienie metody siecznych:\n",
    "Metoda siecznych po podaniu dwóch miejsc $x_0$ i $x_1$ oblicza $f(x_0), f(x_1)$, przez otrzymane dwa punkty prowadzona jest prosta. Miejsce przecięcia prostej z osią odciętych $x_2$ jest przybliżonym wynikiem szukanego miejsca zerowego oraz nowym punktem $x_0$ o ile bezwględna wartość funkcji w tym punkcie oraz odległość wyliczonego punktu od poprzedniego jest większa od założonej dokładności.\n",
    "\n",
    "Zdarzają się przypadki kiedy metoda siecznych nie jezt zbieżna na przykład gry punkty $x_0, x_1$ są _daleko_ od szukanego pierwiastka lub gdy różnica $x_{n+1} - x_n$ jest tego samego rzędu co oszacowanie błędu to następne przybliżenie może być całkowicie błędne.\n",
    "\n",
    "Zbieżność metodu siecznych jest rzędu ${\\displaystyle \\varphi ={\\frac {1+{\\sqrt {5}}}{2}}\\approx 1.618}$, co jest okreslane zbieżnością ponad liniową."
   ]
  },
  {
   "cell_type": "code",
   "execution_count": 6,
   "metadata": {},
   "outputs": [
    {
     "ename": "LoadError",
     "evalue": "syntax: incomplete: \"function\" at In[6]:1 requires end",
     "output_type": "error",
     "traceback": [
      "syntax: incomplete: \"function\" at In[6]:1 requires end",
      "",
      "Stacktrace:",
      " [1] top-level scope at In[6]:1",
      " [2] include_string(::Function, ::Module, ::String, ::String) at ./loading.jl:1091",
      " [3] execute_code(::String, ::String) at /home/gabriel/.julia/packages/IJulia/rWZ9e/src/execute_request.jl:27",
      " [4] execute_request(::ZMQ.Socket, ::IJulia.Msg) at /home/gabriel/.julia/packages/IJulia/rWZ9e/src/execute_request.jl:86",
      " [5] #invokelatest#1 at ./essentials.jl:710 [inlined]",
      " [6] invokelatest at ./essentials.jl:709 [inlined]",
      " [7] eventloop(::ZMQ.Socket) at /home/gabriel/.julia/packages/IJulia/rWZ9e/src/eventloop.jl:8",
      " [8] (::IJulia.var\"#15#18\")() at ./task.jl:356"
     ]
    }
   ],
   "source": [
    "function msiecznych(f, x0::Float64, x1::Float64, delta::Float64, epsilon::Float64, maxit::Int)\n",
    "    \"\"\"\n",
    "    Dane:\n",
    "    f – badana funkcja,\n",
    "    x0,x1 – przybliżenia początkowe,\n",
    "    delta,epsilon – dokładności obliczeń,\n",
    "    maxit – maksymalna dopuszczalna liczba iteracji,\n",
    "    \n",
    "    Wyniki:\n",
    "    Funckja msiecznych zwraca krotkę (r,v,it,err):\n",
    "    r – przybliżenie pierwiastka równania f(x) = 0,\n",
    "    v – wartość f(r),\n",
    "    it – liczba wykonanych iteracji,\n",
    "    err – błąd\n",
    "        0 - metoda zbieżna\n",
    "        1 - nie osiągnięto wymaganej dokładności w maxit iteracji\n",
    "    \"\"\""
   ]
  },
  {
   "cell_type": "code",
   "execution_count": null,
   "metadata": {},
   "outputs": [],
   "source": []
  }
 ],
 "metadata": {
  "kernelspec": {
   "display_name": "Julia 1.5.2",
   "language": "julia",
   "name": "julia-1.5"
  },
  "language_info": {
   "file_extension": ".jl",
   "mimetype": "application/julia",
   "name": "julia",
   "version": "1.5.2"
  }
 },
 "nbformat": 4,
 "nbformat_minor": 4
}
