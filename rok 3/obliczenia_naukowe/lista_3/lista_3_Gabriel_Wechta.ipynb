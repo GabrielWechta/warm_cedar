{
 "cells": [
  {
   "cell_type": "markdown",
   "metadata": {},
   "source": [
    "# Lista 3\n",
    "### Gabriel Wechta 250111"
   ]
  },
  {
   "cell_type": "markdown",
   "metadata": {},
   "source": [
    "# Zadanie 1\n",
    "* Mamy zaimplementować funckję _mbisekcji_ rozwiązującą równanie $f(r) = 0$, dla $f : \\mathbb{R} \\mapsto \\mathbb{R}$, oraz $r \\in \\mathbb{R}$ metodą bisekcji (połowienia przedziału).\n",
    "* Założenia dotyczące funkcji:\n",
    "    * $f$ jest funkcją ciągłą w $[a, b]$ i $f(a)f(b) < 0$.\n",
    "* Nowy koniec przedziału $c_n$ zadany jest wzorem:\n",
    "    * $c_n = \\frac{1}{2}(a_n + b_n)$ dla $(n \\geq 0)$\n",
    "* Warunki końca, alternatywne:\n",
    "    * $|b_n - a_n| \\lt \\delta$\n",
    "    * $|f(c_n)| \\lt \\epsilon$"
   ]
  },
  {
   "cell_type": "markdown",
   "metadata": {},
   "source": [
    "### Omówienie metody bisekcji:\n",
    "Korzystamy z tego, że jeżeli funkcja na końcach przedziału ma różne znaki to oznacza to, że pomiędzy tymi punktami zmienia znak, co oznacza, że istnieje pomiędzy nimi miejsce zerowe. Powyższe rozumowanie stosujemy do coraz mniejszych przedziałów, dbając o to, żeby nowy, mniejszy przedział zachował własność róznych znaków funkcji na jego końcach. Takie iteracyjne zmniejszanie przedziału gwarantuje nam, że miejsce zerowe jest wewnątrz tego przedziału. W tym przypadku dzielimy przedział na dwie części, co realizujemy poprzez policzenie $c = \\frac{a+b}{2}$ i ustanowienie $c$ nowym końcem jednego z przedziałów tj. $a=c$ lub $b=c$."
   ]
  },
  {
   "cell_type": "markdown",
   "metadata": {},
   "source": [
    "![bisekcja](bisekcja.png)"
   ]
  },
  {
   "cell_type": "code",
   "execution_count": 1,
   "metadata": {},
   "outputs": [
    {
     "data": {
      "text/plain": [
       "mbisekcji (generic function with 1 method)"
      ]
     },
     "execution_count": 1,
     "metadata": {},
     "output_type": "execute_result"
    }
   ],
   "source": [
    "function mbisekcji(f, a::Float64, b::Float64, delta::Float64, epsilon::Float64)\n",
    "    \"\"\"\n",
    "    Funckja wykorzystuje metodę bisekcji\n",
    "    Dane:\n",
    "    f - badana funkcja,\n",
    "    a, b - grancie badanego przedziału,\n",
    "    delta - dokładność, odległość rozwiązania od rzeczywsitego rozwiązania,\n",
    "    epsilon - dokładność, akceptowana odległość od zera.\n",
    "    Wyniki:\n",
    "    Funckja mbisekjca zwraca krotkę (r, v, it, err)\n",
    "    r – przybliżenie pierwiastka równania f(x) = 0,\n",
    "    v – wartość f(r),\n",
    "    it – liczba wykonanych iteracji,\n",
    "    err – błąd:\n",
    "        0 - brak błędu\n",
    "        1 - funkcja nie zmienia znaku w przedziale [a,b]\n",
    "    \"\"\"\n",
    "    u = f(a) # liczymy wartości na końcach przedziału\n",
    "    v = f(b)\n",
    "    e = b - a # liczymy długość przedziału, będzie potrzebna dalej\n",
    "    if sign(u) == sign(v) # jeżeli końce przedziału mają ten sam znak, to algorytm nie ma prawa zadziałać. Zwracamy błąd\n",
    "        return (0, 0, 0, 1)\n",
    "    end\n",
    "    k = 0 # zmienna licząca iteracje\n",
    "    while true # można byłoby dodać tutaj maksymalną liczbę iteracji, niemniej definicja funkcji z zadnia nie uwzględnia tego\n",
    "        k += 1\n",
    "        # następujący sposób liczenia środka przedziału jest polecany przez Kincaida i Chemneya, \n",
    "        # ze względu na istnienie szansy na wyjście z przedziału przy liczeniu go wzorem c = (a + b)/2 \n",
    "        e = e/2.0 \n",
    "        c = a + e\n",
    "        w = f(c)\n",
    "        if abs(e) < delta || abs(w) < epsilon # warunki końca\n",
    "            return(c, w, k, 0)\n",
    "        end\n",
    "        if sign(w) != sign(u)\n",
    "            b = c\n",
    "            v = w\n",
    "        else\n",
    "            a = c\n",
    "            u = w\n",
    "        end\n",
    "    end\n",
    "end     "
   ]
  },
  {
   "cell_type": "markdown",
   "metadata": {},
   "source": [
    "Błąd przybliżenia miejsca zerowego funckji $f$ za pomocą metody bisekcji szacujemy tak:\n",
    "\n",
    "$|x_0 - c_n| \\leq 2^{-(n+1)}(b_0 - a_0)$,\n",
    "\n",
    "gdzie: \n",
    "* $x_0$ - faktyczne miejsce zerowe funkcji,\n",
    "* $c_n$ - środek przedziału uzyskanego w $n$-tej iteracji,\n",
    "* $[a_0, b_0]$ - przedział początkowy.\n",
    "\n",
    "### Wnioski:\n",
    "\n",
    "Zaletą metody bisekcji jest to, że w każdej iteracji przedział, w którym szukamy zera maleje o stałą wartość, tj. dwukrotnie.\n",
    "Kincaid i Cheney w \"Analizie numerycznej\" zwracają jeszcze uwagę na sytuację, w której nowo policzony środek przedziału stanowi zero funkcji. Należy zauważyć, że algorytm w żadnym miejscu nie sprawdza, czy nie natrafił na faktyczne zero funkcji. Jest to usprawiedliwione tym, że w ogólnym przypadku szansa natrafienia na takie $c$, żeby $f(c) = 0$ jest bardzo mała (nawet przy ograniczonej gęstości liczb maszynowych), a sprawdzanie tego warunku nakłada na każdą iterację koszt operacji porównania. "
   ]
  },
  {
   "cell_type": "markdown",
   "metadata": {},
   "source": [
    "### Zadanie 1 - testy"
   ]
  },
  {
   "cell_type": "code",
   "execution_count": 2,
   "metadata": {},
   "outputs": [
    {
     "name": "stdout",
     "output_type": "stream",
     "text": [
      "3x+3 (-0.9999971389770508, 8.58306884765625e-6, 20, 0) wartość oczekiwana = -1.\n",
      "Błąd bezwzględny = 2.86102294921875e-6\n",
      "\n",
      "sin(x) (3.1415939331054688, -1.2795156755111882e-6, 18, 0) wartość oczekiwana = 3.141592653589793.\n",
      "Błąd bezwzględny = 1.279515675634002e-6\n",
      "\n",
      "10x^5 - 1.6x^4 - 2.5x^2 + x (3.814697265625e-6, 3.8146608858369287e-6, 16, 0) wartość oczekiwana = 0.\n",
      "Błąd bezwzględny = 3.814697265625e-6\n",
      "\n",
      "1.6x^4 - 2.5x^2 + x (3.814697265625e-6, 3.8146608858369295e-6, 16, 0) wartość oczekiwana = 0.\n",
      "Błąd bezwzględny = 3.814697265625e-6\n"
     ]
    }
   ],
   "source": [
    "#funckja liniowa:\n",
    "f(x) = 3x + 3\n",
    "d = 0.5*10^-5\n",
    "e = 0.5*10^-5\n",
    "val, _, _, _ = mbisekcji(f, -3.0, 2.0, d, e)\n",
    "println(\"3x+3 \", mbisekcji(f, -3.0, 2.0, d, e), \" wartość oczekiwana = -1.\", \"\\nBłąd bezwzględny = \", abs(val - (-1))) \n",
    "println()\n",
    "\n",
    "#funckja sin(x):\n",
    "f(x) = sin(x)\n",
    "d = 0.5*10^-5\n",
    "e = 0.5*10^-5\n",
    "val, _, _, _ = mbisekcji(f, 2.0, 4.0, d, e)\n",
    "println(\"sin(x) \", mbisekcji(f, 2.0, 4.0, d, e), \" wartość oczekiwana = 3.141592653589793.\", \"\\nBłąd bezwzględny = \", abs(val - 3.141592653589793)) \n",
    "println()\n",
    "\n",
    "#funckja wielomianowa:\n",
    "f(x) = 10x^5 - 1.6x^4 - 2.5x^2 + x\n",
    "d = 0.5*10^-5\n",
    "e = 0.5*10^-5\n",
    "val, _, _, _ = mbisekcji(f, -1.0, 0.25, d, e)\n",
    "println(\"10x^5 - 1.6x^4 - 2.5x^2 + x \", mbisekcji(f, -1.0, 0.25, d, e), \" wartość oczekiwana = 0.\", \"\\nBłąd bezwzględny = \", abs(val - 0)) \n",
    "println()\n",
    "\n",
    "#funckja wielomianowa 2:\n",
    "f(x) = 1.6x^4 - 2.5x^2 + x\n",
    "d = 0.5*10^-5\n",
    "e = 0.5*10^-5\n",
    "val, _, _, _ = mbisekcji(f, -1.0, 0.25, d, e)\n",
    "println(\"1.6x^4 - 2.5x^2 + x \", mbisekcji(f, -1.0, 0.25, d, e), \" wartość oczekiwana = 0.\", \"\\nBłąd bezwzględny = \", abs(val - 0)) "
   ]
  },
  {
   "cell_type": "markdown",
   "metadata": {},
   "source": [
    "### Komentarz do testów:\n",
    "Testy w zasadzie mają tylko pokazać poprawność implementacji algorytmu. Wyniki zagadzają się z oczekiwaniami. Szybko, tj. w kilkunasty iteracjach algorytm oktrzymuje oczekiwane przybliżenie dla wszystkich testowanych funkcji ($\\frac{1}{2}\\cdot10^{-5}$). Chciałbym jeszcze zwrócić uwagę na to, że wielomian $w_1(x) = 10x^5 - 1.6x^4 - 2.5x^2 + x$ jak i $w_2(x) = 1.6x^4 - 2.5x^2 + x$ mające zera w $0$ otrzymują identyczny wynik, choć są to różne wielomiany. Ten przykład pokazuje, że działanie algorytmu bisekcji nie zależy stricte od funkcji jaka jest nim badana, a od zadanego przedziałuc na którym funkcję badamy, zadanych warunków końca oraz istnienia miejsca zerowego w tym przedziale."
   ]
  },
  {
   "cell_type": "markdown",
   "metadata": {},
   "source": [
    "# Zadanie 2\n",
    "* Mamy zaimplementować funckję _mstycznych_ rozwiązującą równanie $f(r) = 0$, dla $f : \\mathbb{R} \\mapsto \\mathbb{R}$, oraz $r \\in \\mathbb{R}$, gdzie $r$ jest pierwiatkiem jednokrotnym, metodą Newtona (Newtona-Raphsona).\n",
    "* Założenia dotyczące funkcji:\n",
    "    * $f$ jest funkcją ciągłą w $[a, b]$ oraz $f$ ma pochodną $f'$ na $[a, b]$.\n",
    "* Przybliżenie dane jest wzorem:\n",
    "    * $x_{n+1} = x_n - \\frac{f(x_n)}{f'(x_n)}$, dla $n \\geq 0$ \n",
    "* Warunki końca, alternatywnie:\n",
    "    * $|x_{n+1} - x_n| \\leq \\delta$\n",
    "    * $|f(x_{n+1})| \\leq \\epsilon$\n",
    "    * liczba iteracji przekroczy $M$"
   ]
  },
  {
   "cell_type": "markdown",
   "metadata": {},
   "source": [
    "### Omówienie metody Newtona:\n",
    "Metoda Newtona, też zwaną metodą stycznych, polega na linearyzacji $l$ funckji $f$ w pobliżu badanego punktu $c$ przy pomocy dwóch pierwszych wyrazów rozwinięcia funckji $f$ w szereg Taylora. Następnie liczone jest miejsce zerowe $x$ funkcji $l$ i to miejsce $x$ stanowi nowe $c$.\n",
    "\n",
    "Na ogół metoda Newtona jest znacznie szybsza od metod bisekcji i siecznych, ponieważ jej zbieżność jest kwadratowa kiedy zbieżność bisekcji jest liniowa a siecznych nadliniowa. Niestety metoda Newtona nie zawsze jest zbieżna, dlatego z reguły stosuje się synergię metody Newtona z jakąś inną metodą zbieżną globalnie.\n",
    "\n",
    "Istnieje niebezpieczeństwo, że jeżeli punkt początkowy jest za daleko faktycnzego miejsca zerowego funkcji lub funckja ma nieodpowiedni kształt (na przykład _arctg(x)_ ) i niefortunnie wybrany punkt początkowy (ten sam przykład $x \\lt -\\pi$ ) metoda Newtona zawodzi (przykład poniżej w testach)."
   ]
  },
  {
   "cell_type": "markdown",
   "metadata": {},
   "source": [
    "![newton](newton.png)"
   ]
  },
  {
   "cell_type": "code",
   "execution_count": 3,
   "metadata": {},
   "outputs": [
    {
     "data": {
      "text/plain": [
       "mstycznych (generic function with 1 method)"
      ]
     },
     "execution_count": 3,
     "metadata": {},
     "output_type": "execute_result"
    }
   ],
   "source": [
    "function mstycznych(f, pf, x0::Float64, delta::Float64, epsilon::Float64, maxit::Int)\n",
    "    \"\"\"\n",
    "    Funkcja wykorzystuje metodę Newtona\n",
    "    Dane:\n",
    "    f, pf – funkcją f(x) oraz pochodna f\n",
    "    x0 – przybliżenie początkowe,\n",
    "    delta,epsilon – dokładności obliczeń,\n",
    "    maxit – maksymalna dopuszczalna liczba iteracji.\n",
    "    \n",
    "    Wyniki:\n",
    "    Funkcja mstycznych zwraca krotkę (r,v,it,err). \n",
    "    r – przybliżenie pierwiastka równania f(x) = 0,\n",
    "    v – wartość f(r),\n",
    "    it – liczba wykonanych iteracji,\n",
    "    err – sygnalizacja błędu\n",
    "        0 - metoda zbieżna\n",
    "        1 - nie osiągnięto wymaganej dokładności w maxit iteracji,\n",
    "        2 - pochodna bliska zeru\n",
    "    \"\"\"\n",
    "    near_zero = 0.0001 # dobrałem eksperymentalnie \n",
    "    global v = f(x0) # zmienne globalne, aby móc skorzystać z nich w przypadku przekroczenia maxit\n",
    "    global x1 = 0\n",
    "    if abs(v) < epsilon # pierwsze sprawdzenie, czy jesteśmy wystarczająco blisko\n",
    "        return (x0, v, 0, 0)\n",
    "    end\n",
    "    for k in 0:maxit # główna pętla\n",
    "        if abs(pf(x0)) < near_zero # przypadek pochodnej bliskeij zeru\n",
    "            return (x0, v, k, 2)\n",
    "        end\n",
    "        x1 = x0 - v/pf(x0) # nowy punkt\n",
    "        v = f(x1)\n",
    "        if abs(x1 - x0) < delta || abs(v) < epsilon # poprawny warunek końca\n",
    "            return (x1, v, k, 0)\n",
    "        end\n",
    "        x0 = x1\n",
    "    end\n",
    "    return (x1, v, maxit, 1) # w przypadku przekroczenia dozwolonych iteracji\n",
    "end "
   ]
  },
  {
   "cell_type": "markdown",
   "metadata": {},
   "source": [
    "Błąd przybliżenia miejsca zerowego funckji $f$ za pomocą metody Newtona szacujemy tak:\n",
    "\n",
    "${\\displaystyle |x_0-x_{n}|\\leqslant {\\frac {f(x_{n})}{\\min _{{x\\in [a,b]}}|f'(x)|}}}$\n",
    "\n",
    "gdzie: \n",
    "* $x_0$ - faktyczne miejsce zerowe funkcji,\n",
    "* $x_n$ - $n$-te przybliżenie $x_0$\n",
    "* $f$ - badana funkcja\n",
    "* $f'$ - pochodna badanej funkcji\n",
    "* $[a, b]$ - przedział początkowy.\n",
    "\n",
    "### Wnioski:\n",
    "\n",
    "Największą wadą metody Newtona jest potrzeba znania pierwszej pochodnej badanej funkcji, jako, że nie każda funkcja ma pochodną znacząco ogranicza to liczbę funkcji do jakich metodę Newtona możemy zastosować.\n",
    "\n",
    "W pozostałych przypadkach metoda Newtona jest metodą o największym współczynniki zbieżności."
   ]
  },
  {
   "cell_type": "markdown",
   "metadata": {},
   "source": [
    "### Zadanie 2 - testy"
   ]
  },
  {
   "cell_type": "code",
   "execution_count": 15,
   "metadata": {},
   "outputs": [
    {
     "name": "stdout",
     "output_type": "stream",
     "text": [
      "f(x) = x^2 - 2 (-1.4142135623746899, 4.510614104447086e-12, 3, 0) wartość oczekiwana = -1.41421356237\n",
      "Błąd bezwzględny = 4.689804100621586e-12\n",
      "\n",
      "f(x) = tan(x) (2.3203694564724597e-10, 2.3203694564724597e-10, 3, 1) wartość oczekiwana = 0.\n",
      "Błąd bezwzględny = 2.3203694564724597e-10\n",
      "\n",
      "f(x) = tan(x) (0.0, 0.0, 4, 0) wartość oczekiwana = 0.\n",
      "Błąd bezwzględny = 0.0\n",
      "\n",
      "f(x) = tan(x) (0.0, 0.0, 7, 0) wartość oczekiwana = 0.\n",
      "Błąd bezwzględny = 0.0\n",
      "\n",
      "f(x) = tan(x) (0.0, 0.0, 22, 0) wartość oczekiwana = 0.\n",
      "Błąd bezwzględny = 0.0\n",
      "\n",
      "f(x) = atan(x) (-123.99951117888416, -1.5627319536988962, 2, 2) wartość oczekiwana = 0.\n",
      "Błąd bezwzględny = 123.99951117888416\n",
      "\n"
     ]
    }
   ],
   "source": [
    "#funckja z kwadratowa (liczenie ujemnego 2^(1/2):\n",
    "f(x) = x^2 - 2\n",
    "pf(x) = 2x\n",
    "x0 = -2.0\n",
    "e = 0.5*10^-10\n",
    "d = 0.5*10^-10\n",
    "maxit = 10\n",
    "val, _, _, _ = mstycznych(f, pf, x0, d, e, maxit)\n",
    "println(\"f(x) = x^2 - 2 \", mstycznych(f, pf, x0, d, e, maxit), \" wartość oczekiwana = -1.41421356237\", \"\\nBłąd bezwzględny = \", abs(val + 1.41421356237)) \n",
    "println()\n",
    "\n",
    "#funckja tangens x0 = 1.0, maxit = 3:\n",
    "f(x) = tan(x)\n",
    "pf(x) = 1/cos(x)^2\n",
    "x0 = 1.0\n",
    "e = 0.5*10^-10\n",
    "d = 0.5*10^-10\n",
    "maxit = 3\n",
    "val, _, _, _ = mstycznych(f, pf, x0, d, e, maxit)\n",
    "println(\"f(x) = tan(x) \", mstycznych(f, pf, x0, d, e, maxit), \" wartość oczekiwana = 0.\", \"\\nBłąd bezwzględny = \", abs(val - 0)) \n",
    "println()\n",
    "\n",
    "#funckja tangens x0 = 1.0, maxit = 4:\n",
    "f(x) = tan(x)\n",
    "pf(x) = 1/cos(x)^2\n",
    "x0 = 1.0\n",
    "e = 0.5*10^-10\n",
    "d = 0.5*10^-10\n",
    "maxit = 4\n",
    "val, _, _, _ = mstycznych(f, pf, x0, d, e, maxit)\n",
    "println(\"f(x) = tan(x) \", mstycznych(f, pf, x0, d, e, maxit), \" wartość oczekiwana = 0.\", \"\\nBłąd bezwzględny = \", abs(val - 0)) \n",
    "println()\n",
    "\n",
    "#funckja tangens x0 = 1.5 ( tan(1.5) = 14.101419947171719), maxit = 10 :\n",
    "f(x) = tan(x)\n",
    "pf(x) = 1/cos(x)^2\n",
    "x0 = 1.5\n",
    "e = 0.5*10^-10\n",
    "d = 0.5*10^-10\n",
    "maxit = 10\n",
    "val, _, _, _ = mstycznych(f, pf, x0, d, e, maxit)\n",
    "println(\"f(x) = tan(x) \", mstycznych(f, pf, x0, d, e, maxit), \" wartość oczekiwana = 0.\", \"\\nBłąd bezwzględny = \", abs(val - 0)) \n",
    "println()\n",
    "\n",
    "#funckja tangens x0 = 1.570794 ( tan(1.570794) = 429775.7406384637), maxit = 100 :\n",
    "f(x) = tan(x)\n",
    "pf(x) = 1/cos(x)^2\n",
    "x0 = 1.570794\n",
    "e = 0.5*10^-10\n",
    "d = 0.5*10^-10\n",
    "maxit = 100\n",
    "val, _, _, _ = mstycznych(f, pf, x0, d, e, maxit)\n",
    "println(\"f(x) = tan(x) \", mstycznych(f, pf, x0, d, e, maxit), \" wartość oczekiwana = 0.\", \"\\nBłąd bezwzględny = \", abs(val - 0)) \n",
    "println()\n",
    "\n",
    "# przykład funkcji ze złym punktem początkowym, arcustangens:\n",
    "f(x) = atan(x)\n",
    "pf(x) = 1/(x^2 +1)\n",
    "x0 = -3.0\n",
    "e = 0.5*10^-10\n",
    "d = 0.5*10^-10\n",
    "maxit = 100\n",
    "val, _, _, _ = mstycznych(f, pf, x0, d, e, maxit)\n",
    "println(\"f(x) = atan(x) \", mstycznych(f, pf, x0, d, e, maxit), \" wartość oczekiwana = 0.\", \"\\nBłąd bezwzględny = \", abs(val - 0)) \n",
    "println()"
   ]
  },
  {
   "cell_type": "markdown",
   "metadata": {},
   "source": [
    "### Komentarz do testów:\n",
    "* Pierwszy przykład funckji liniowej pokazuje jak szybko metoda Newtona zbiega do dobrego rozwiązania, już po trzech iteracjach dostajemy liczbę, której błąd bezwzględny w stosunku do rozwiązania jest rzędu $10^{-12}$.\n",
    "* Kolejne 4 przykłady maglują funkcję tangens. Należy zauważyć, że już dla x0 = 1.0 i maxit = 3 metoda Newtona daje fantastyczny wynik rzędu $10^{-10}$. Metoda Newtona radzi sobie nawet z ekstremalnym przypadkiem x0 = 1.570794, już w 22 iteracjach zbiega do 0.0. Przypadek ten jest trudny ponieważ styczna w tym punkcie jest niemal pionowa. Co więcej tangens(1.570797) jest już ujemny.\n",
    "* Ostatni przykład stanowi funkcja, która w badanym punkcie jest niemal równoległa do osi odciętych, co powoduje, że wartość pochodnej w tym punkcie jest bliska 0. "
   ]
  },
  {
   "cell_type": "markdown",
   "metadata": {},
   "source": [
    "# Zadanie 3\n",
    "* Mamy zaimplementować funckję _msiecznych_ rozwiązującą równanie $f(r) = 0$, dla $f : \\mathbb{R} \\mapsto \\mathbb{R}$, oraz $r \\in \\mathbb{R}$ metodą siecznych (metodą Eulera).\n",
    "* Założenia dotyczące funkcji:\n",
    "    * $f$ jest funkcją ciągłą w $[x_0, x_1]$ oraz $f$ ma różne znaki na końcach przedziału $[x_0, x_1]$.\n",
    "* Przybliżenie dane jest wzorem:\n",
    "\n",
    "    * $x_{n+1} = x_n - f(x_n)\\frac{x_n - x_{n-1}}{f(x_n) - f(x_{n-1})}$, dla $n \\geq 1$\n",
    "    \n",
    "* Warunki końca, alternatywnie:\n",
    "    * $|x_{n+1} - x_n| \\leq \\delta$\n",
    "    * $|f(x_{n+1})| \\leq \\epsilon$\n",
    "    * liczba iteracji przekroczy $M$ "
   ]
  },
  {
   "cell_type": "markdown",
   "metadata": {},
   "source": [
    "### Omówienie metody siecznych:\n",
    "Metoda siecznych po podaniu dwóch miejsc $x_0$ i $x_1$ oblicza $f(x_0), f(x_1)$, przez otrzymane dwa punkty prowadzona jest prosta. Miejsce przecięcia prostej z osią odciętych $x_2$ jest przybliżonym wynikiem szukanego miejsca zerowego oraz nowym punktem $x_0$ o ile bezwględna wartość funkcji w tym punkcie oraz odległość wyliczonego punktu od poprzedniego jest większa od założonej dokładności.\n",
    "\n",
    "Zdarzają się przypadki kiedy metoda siecznych nie jezt zbieżna, na przykład gdy punkty $x_0, x_1$ są _daleko_ od szukanego pierwiastka lub gdy różnica $x_{n+1} - x_n$ jest tego samego rzędu co oszacowanie błędu to następne przybliżenie może być całkowicie błędne.\n",
    "\n",
    "Zbieżność metody siecznych jest rzędu ${\\displaystyle \\varphi ={\\frac {1+{\\sqrt {5}}}{2}}\\approx 1.618}$, co jest określane zbieżnością nadliniową.\n",
    "\n",
    "Poniższy algorytm pochodzi z \"Analizy numerycznej\" Kincaid'a i Cheney'a, przedstawia on metodę siecznych zmodyfikowaną tak, aby kolejne obliczone wartości funckji miały moduł nierosnący. Co prowadzi do tego, że od drugiej iteracji głównej pętli programu $|f(x_n)|$ nie rośnie."
   ]
  },
  {
   "cell_type": "markdown",
   "metadata": {},
   "source": [
    "![sieczna](sieczna.png)"
   ]
  },
  {
   "cell_type": "code",
   "execution_count": 5,
   "metadata": {},
   "outputs": [
    {
     "data": {
      "text/plain": [
       "msiecznych (generic function with 1 method)"
      ]
     },
     "execution_count": 5,
     "metadata": {},
     "output_type": "execute_result"
    }
   ],
   "source": [
    "function msiecznych(f, x0::Float64, x1::Float64, delta::Float64, epsilon::Float64, maxit::Int)\n",
    "    \"\"\"\n",
    "    Dane:\n",
    "    f – badana funkcja,\n",
    "    x0,x1 – przybliżenia początkowe,\n",
    "    delta,epsilon – dokładności obliczeń,\n",
    "    maxit – maksymalna dopuszczalna liczba iteracji,\n",
    "    \n",
    "    Wyniki:\n",
    "    Funckja msiecznych zwraca krotkę (r,v,it,err):\n",
    "    r – przybliżenie pierwiastka równania f(x) = 0,\n",
    "    v – wartość f(r),\n",
    "    it – liczba wykonanych iteracji,\n",
    "    err – błąd\n",
    "        0 - metoda zbieżna\n",
    "        1 - nie osiągnięto wymaganej dokładności w maxit iteracji\n",
    "    \"\"\"\n",
    "    global fx0 = f(x0) # zmienne globalne bay mieć co zwrócić gdy przekroczymy dozwoloną liczbę iteracji\n",
    "    global fx1 = f(x1)\n",
    "    for k in 0:maxit\n",
    "        if abs(fx0) > abs(fx1)\n",
    "            # realizacja przestawienia końców przedziału\n",
    "            tmp = x0\n",
    "            ftmp = fx0\n",
    "            \n",
    "            x0 = x1\n",
    "            x1 = tmp\n",
    "            fx0 = fx1\n",
    "            fx1 = ftmp\n",
    "        end\n",
    "        s = (x1 - x0)/(fx1 - fx0) # obliczanie siecznej\n",
    "        x1 = x0\n",
    "        fx1 = fx0\n",
    "        x0 = x0 - fx0 * s\n",
    "        fx0 = f(x0)\n",
    "        if abs(fx0) < epsilon || abs(x1 - x0) < delta\n",
    "            return (x0, fx0, k, 0)\n",
    "        end\n",
    "    end\n",
    "    return (x0, fx0, maxit, 1)\n",
    "end"
   ]
  },
  {
   "cell_type": "markdown",
   "metadata": {},
   "source": [
    "Błąd przybliżenia miejsca zerowego funckji $f$ za pomocą metody siecznych szacujemy tak:\n",
    "\n",
    "$|x_0 - x_n| \\leq x_n - x_{n-1} $\n",
    "\n",
    "gdzie: \n",
    "* $x_0$ - faktyczne miejsce zerowe funkcji,\n",
    "* $x_n$ - $n$-te przybliżenie $x_0$\n",
    "* $x_{n-1}$ - $n-1$-te przybliżenie $x_0$\n",
    "\n",
    "### Wnioski:\n",
    "\n",
    "Metoda siecznych stanowi pewnego typu kompromis pomiędzy metodą Netwona i metodą bisekcji. Tracimy kwadratową zbieżność na rzecz zbieżnośc nadliliowej, ale zyskujemy brak potrzeby różniczkowalności funckji na badanym obszarze, co znacznie rozszerza klasę badanych funkcji. Niemniej przybliżenia są opartę na kącie nachylenia siecznej, co niestety oznacza, że funkcje _strome_ tj. szybko rosnące lub _pofalowane_ tj. z licznymi ekstremami lokalnymi, będą słabo przybliżane przez metodę siecznych."
   ]
  },
  {
   "cell_type": "code",
   "execution_count": 6,
   "metadata": {},
   "outputs": [
    {
     "name": "stdout",
     "output_type": "stream",
     "text": [
      "f(x) = x^2 - 2 (-1.4142135623731826, 2.4780177909633494e-13, 5, 0) wartość oczekiwana = -1.41421356237\n",
      "Błąd bezwzględny = 3.1825653223904737e-12\n",
      "\n",
      "10x^5 - 1.6x^4 - 2.5x^2 + x (-0.07230407487867484, -0.08543726336831121, 10, 1) wartość oczekiwana = 0.\n",
      "Błąd bezwzględny = 0.07230407487867484\n",
      "\n",
      "1.6x^4 - 2.5x^2 + x (-1.415627215349103, 6.661338147750939e-16, 8, 0) wartość oczekiwana = -1.415627215.\n",
      "Błąd bezwzględny = 2.784650896980878e-6\n",
      "\n",
      "1.6x^4 - 2.5x^2 + x (-1.7793494885184387, 6.343985739935413, 10, 1) wartość oczekiwana = -1.415627215.\n",
      "Błąd bezwzględny = 0.3637194885184387\n",
      "\n",
      "1.6x^4 - 2.5x^2 + x (-1.4156272153491027, 0.0, 18, 0) wartość oczekiwana = -1.415627215.\n",
      "Błąd bezwzględny = 2.7846508972029227e-6\n",
      "\n"
     ]
    }
   ],
   "source": [
    "#funckja z kwadratowa (liczenie ujemnego 2^(1/2):\n",
    "f(x) = x^2 - 2\n",
    "x0 = -2.0\n",
    "x1 = -3.0\n",
    "e = 0.5*10^-10\n",
    "d = 0.5*10^-10\n",
    "maxit = 10\n",
    "val, _, _, _ = msiecznych(f, x0, x1, d, e, maxit)\n",
    "println(\"f(x) = x^2 - 2 \", msiecznych(f, x0, x1, d, e, maxit), \" wartość oczekiwana = -1.41421356237\", \"\\nBłąd bezwzględny = \", abs(val + 1.41421356237)) \n",
    "println()\n",
    "\n",
    "#funckja wielomianowa:\n",
    "f(x) = 10x^5 - 1.6x^4 - 2.5x^2 + x\n",
    "x0 = -2.0\n",
    "x1 = -3.0\n",
    "d = 0.5*10^-10\n",
    "e = 0.5*10^-10\n",
    "maxit = 10\n",
    "val, _, _, _ = msiecznych(f, x0, x1, d, e, maxit)\n",
    "println(\"10x^5 - 1.6x^4 - 2.5x^2 + x \", msiecznych(f, x0, x1, d, e, maxit), \" wartość oczekiwana = 0.\", \"\\nBłąd bezwzględny = \", abs(val - 0)) \n",
    "println()\n",
    "\n",
    "#funckja wielomianowa 2:\n",
    "f(x) = 1.6x^4 - 2.5x^2 + x\n",
    "x0 = -2.0\n",
    "x1 = -3.0\n",
    "d = 0.5*10^-10\n",
    "e = 0.5*10^-10\n",
    "maxit = 10\n",
    "val, _, _, _ = msiecznych(f, x0, x1, d, e, maxit)\n",
    "println(\"1.6x^4 - 2.5x^2 + x \", msiecznych(f, x0, x1, d, e, maxit), \" wartość oczekiwana = -1.415627215.\", \"\\nBłąd bezwzględny = \", abs(val + 1.41563)) \n",
    "println()\n",
    "\n",
    "#funckja wielomianowa 2, miejsca początowe bardziej odległe na lewo od miejsca zerowego:\n",
    "f(x) = 1.6x^4 - 2.5x^2 + x\n",
    "x0 = -12.0\n",
    "x1 = -30.0\n",
    "d = 0.5*10^-10\n",
    "e = 0.5*10^-10\n",
    "maxit = 10\n",
    "val, _, _, _ = msiecznych(f, x0, x1, d, e, maxit)\n",
    "println(\"1.6x^4 - 2.5x^2 + x \", msiecznych(f, x0, x1, d, e, maxit), \" wartość oczekiwana = -1.415627215.\", \"\\nBłąd bezwzględny = \", abs(val +1.41563)) \n",
    "println()\n",
    "\n",
    "#funckja wielomianowa 2, miejsca początowe bardziej odległe na lewo od miejsca zerowego, maxit = 100:\n",
    "f(x) = 1.6x^4 - 2.5x^2 + x\n",
    "x0 = -12.0\n",
    "x1 = -30.0\n",
    "d = 0.5*10^-10\n",
    "e = 0.5*10^-10\n",
    "maxit = 100\n",
    "val, _, _, _ = msiecznych(f, x0, x1, d, e, maxit)\n",
    "println(\"1.6x^4 - 2.5x^2 + x \", msiecznych(f, x0, x1, d, e, maxit), \" wartość oczekiwana = -1.415627215.\", \"\\nBłąd bezwzględny = \", abs(val +1.41563)) \n",
    "println()"
   ]
  },
  {
   "cell_type": "markdown",
   "metadata": {},
   "source": [
    "### Komentarz do testów\n",
    "* Pierwsze dwa testy możemy porównać do metody bisekcji. Metoda siecznych znacznie szybciej dała dobry wynik. Niestety podobnie do metody Netwona wiele zależy od wyboru punktu/ów początkowych.\n",
    "* Co widać przy trzecim teście. Pomimo, że algorytm końzzy liczenie po 8 iteracjach, zadowalajac warunek $|x_{n+1} - x_n| \\leq \\delta$ wynik jest bardzo daleki od oczekiwanego $0$. Jest to spowodowane kształtem wykresu wielomianu, który ma wypłaszczenie pomiędzy $0$ i $0.5$.\n",
    "* W czwartym teście jak na tak dalekie punkty startowe w zaledwie 10 iteracajch dostajemy wynik, którego odległość od poprawnego jest mniejsza niz $1$.\n",
    "* Ostatni test pokazuje, że 18 iteracji wystarczy aby dostać dobrej jakości wynik, nawet zaczynając tak daleko od faktycznego miejsca zerowego."
   ]
  },
  {
   "cell_type": "markdown",
   "metadata": {},
   "source": [
    "# Zadanie 4"
   ]
  },
  {
   "cell_type": "markdown",
   "metadata": {},
   "source": [
    "* Mamy obliczyć pierwiastek równania\n",
    "   \n",
    "   $sin(x) − (\\frac{1}{2}x)^2 = 0$\n",
    "   \n",
    "   Korzystając z wcześniej zaprogramowanych metod.\n",
    "   \n",
    "$\\delta = \\frac{1}{2}10^{-5}$ oraz $\\epsilon = \\frac{1}{2}10^{-5}$."
   ]
  },
  {
   "cell_type": "code",
   "execution_count": 7,
   "metadata": {},
   "outputs": [
    {
     "name": "stdout",
     "output_type": "stream",
     "text": [
      "metoda bisekcji (1.9337539672851562, -2.7027680138402843e-7, 16, 0) wartość oczekiwana = 1.93375376\n",
      "Błąd bezwzględny = 2.0728515615076049e-7\n",
      "\n",
      "metoda stycznych (1.933753779789742, -2.2423316314856834e-8, 3, 0) wartość oczekiwana = 1.93375376\n",
      "Błąd bezwzględny = 1.978974184524418e-8\n",
      "\n",
      "metoda siecznych (1.933753644474301, 1.564525129449379e-7, 3, 0) wartość oczekiwana = 1.93375376\n",
      "Błąd bezwzględny = 1.1552569900707965e-7\n"
     ]
    }
   ],
   "source": [
    "f(x) = sin(x) - 0.25x^2\n",
    "pf(x) = cos(x) - x/2.0 # pochodna f\n",
    "e = 0.5*10^-5 # z zadania\n",
    "d = 0.5*10^-5 # z zadania\n",
    "maxit = 100 # żadna z metod nie powinna przekroczyć 100 iteracji\n",
    "\n",
    "#metoda bisekcji\n",
    "val, _, _, _ = mbisekcji(f, 1.5 , 2.0, d, e)\n",
    "println(\"metoda bisekcji \", mbisekcji(f, 1.5 , 2.0, d, e), \" wartość oczekiwana = 1.93375376\", \"\\nBłąd bezwzględny = \", abs(val - 1.93375376))\n",
    "println()\n",
    "\n",
    "#metoda newtona\n",
    "val, _, _, _ = mstycznych(f, pf, 1.5, d, e, maxit)\n",
    "println(\"metoda stycznych \", mstycznych(f, pf, 1.5, d, e, maxit), \" wartość oczekiwana = 1.93375376\", \"\\nBłąd bezwzględny = \", abs(val - 1.93375376)) \n",
    "println()\n",
    "\n",
    "#metoda siecznych\n",
    "val, _, _, _ = msiecznych(f, 1.0, 2.0, d, e, maxit)\n",
    "println(\"metoda siecznych \", msiecznych(f, 1.0, 2.0, d, e, maxit), \" wartość oczekiwana = 1.93375376\", \"\\nBłąd bezwzględny = \", abs(val - 1.93375376)) "
   ]
  },
  {
   "cell_type": "markdown",
   "metadata": {},
   "source": [
    "### Komentarze i wnioski\n",
    "Zgodnie z oczekiwaniami metoda Newtona zwraca najdokładniejsze przybliżenie, lepsze od metody siecznych o jedno miejsce po przecinku. Obie metody, zwracają bardzo dobre przybliżenie już po 3 iteracjach. Metoda bisekcji radzi sobie najgorzej i potrzebuje aż 16 iteracji aby zaspokoić warunek końca. \n",
    "\n",
    "Gdybyśmy mieli badać funckję $sin(x) − (\\frac{1}{2}x)^2$ najlepiej byłoby wybrać metodę Newtona, zwłaszcza, że łatwo jest policzyć jej pochodną. "
   ]
  },
  {
   "cell_type": "markdown",
   "metadata": {},
   "source": [
    "# Zadanie 5\n",
    "* Metodą bisekcji mamy policzyć $x$, dla którego przecinają się wykresy funkcji\n",
    "    * $y = 3x$\n",
    "    * $y = e^x$\n",
    "* Co, naturalnie, sprowadza się do równania:\n",
    "    * $e^x - 3x = 0$\n",
    "    \n",
    "$\\delta = 10^{-4}$ oraz $\\epsilon = 10^{-4}$."
   ]
  },
  {
   "cell_type": "code",
   "execution_count": 8,
   "metadata": {},
   "outputs": [
    {
     "name": "stdout",
     "output_type": "stream",
     "text": [
      "metoda bisekcji, pierwsze miejsce zerowe (0.619140625, -9.066320343276146e-5, 9, 0) wartość oczekiwana = 0.61906128\n",
      "Błąd bezwzględny = 7.934499999995293e-5\n",
      "\n",
      "metoda bisekcji, drugie miejsce zerowe (1.5120849609375, -7.618578602741621e-5, 13, 0) wartość oczekiwana = 1.51213455\n",
      "Błąd bezwzględny = 4.958906250007722e-5\n",
      "\n"
     ]
    }
   ],
   "source": [
    "f(x) = MathConstants.e^x - 3.0x # do stałej e należy dostać się przez pakiet MathConstants\n",
    "e = 10^-4 # z zadania\n",
    "d = 10^-4 # z zadania\n",
    "maxit = 100 # metoda nie powinna przekroczyć 100 iteracji\n",
    "\n",
    "val, _, _, _ = mbisekcji(f, 0.0 , 1.0, d, e)\n",
    "println(\"metoda bisekcji, pierwsze miejsce zerowe \", mbisekcji(f, 0.0 , 1.0, d, e), \" wartość oczekiwana = 0.61906128\", \"\\nBłąd bezwzględny = \", abs(val - 0.61906128))\n",
    "println()\n",
    "\n",
    "val, _, _, _ = mbisekcji(f, 1.0 , 2.0, d, e)\n",
    "println(\"metoda bisekcji, drugie miejsce zerowe \", mbisekcji(f, 1.0 , 2.0, d, e), \" wartość oczekiwana = 1.51213455\", \"\\nBłąd bezwzględny = \", abs(val - 1.51213455))\n",
    "println()"
   ]
  },
  {
   "cell_type": "markdown",
   "metadata": {},
   "source": [
    "### Komentarze i winioski\n",
    "Przedział dobrałem tak, aby był tej samej długosci dla obu pierwiastków.\n",
    "Trudność w zadaniu polega na zorientowaniu się, że w Julii konsolowa stała $e \\neq 2.7182818284590...$"
   ]
  },
  {
   "cell_type": "code",
   "execution_count": 9,
   "metadata": {},
   "outputs": [
    {
     "name": "stdout",
     "output_type": "stream",
     "text": [
      "0.00010000000000000002"
     ]
    }
   ],
   "source": [
    "print(e)"
   ]
  },
  {
   "cell_type": "markdown",
   "metadata": {},
   "source": [
    "# Zadanie 6 część I\n",
    "* Mamy obliczyć miejsca zerowe fukcji $f_1$ i $f_2$, gdzie:\n",
    "    * $f_1(x) = e^{1-x} - 1$,\n",
    "    * $f_2(x) = xe^{-x}$\n",
    "\n",
    "za pomocą metody bisekcji, Newtona i siecznych, odpowiednio dobierając przedziały i punkty startowe.\n",
    "$\\delta = 10^{-4}$ oraz $\\epsilon = 10^{-4}$."
   ]
  },
  {
   "cell_type": "code",
   "execution_count": 10,
   "metadata": {},
   "outputs": [
    {
     "name": "stdout",
     "output_type": "stream",
     "text": [
      "########### f1 ###########\n",
      "metoda bisekcji, f1 (0.9999908447265624, 9.15531534717573e-6, 16, 0) wartość oczekiwana = 1.0\n",
      "Błąd bezwzględny = 9.155273437588818e-6\n",
      "\n",
      "metoda stycznych, f1(0.9999999146678636, 8.533214002071077e-8, 4, 0) wartość oczekiwana = 1.0\n",
      "Błąd bezwzględny = 8.533213635697479e-8\n",
      "\n",
      "metoda siecznych, f1(0.999999918182725, 8.181727828571184e-8, 6, 0) wartość oczekiwana = 1.0\n",
      "Błąd bezwzględny = 8.181727495504276e-8\n",
      "\n",
      "########### f2 ###########\n",
      "metoda bisekcji, f2 (3.051757812373117e-6, 3.0517484991615828e-6, 17, 0) wartość oczekiwana = 0.0\n",
      "Błąd bezwzględny = 3.051757812373117e-6\n",
      "\n",
      "metoda stycznych, f2 (-3.0642493416461764e-7, -3.0642502806087233e-7, 4, 0) wartość oczekiwana = 0.0\n",
      "Błąd bezwzględny = 3.0642493416461764e-7\n",
      "\n",
      "metoda siecznych, f2 (-4.38918304059184e-6, -4.389202305561883e-6, 6, 0) wartość oczekiwana = 0.0\n",
      "Błąd bezwzględny = 4.38918304059184e-6\n"
     ]
    }
   ],
   "source": [
    "f1(x) = MathConstants.e^(1-x) - 1.0\n",
    "pf1(x) = -MathConstants.e^(1-x)\n",
    "f2(x) = x*MathConstants.e^(-x)\n",
    "pf2(x) = -MathConstants.e^(-x)*(x-1)\n",
    "e = 10^-5 # z zadania\n",
    "d = 10^-5 # z zadania\n",
    "maxit = 100 # metoda nie powinna przekroczyć 100 iteracji\n",
    "\n",
    "# przedziały i miejsca początkowe dobieram orientacyjnie bazując na wykresie funkcji\n",
    "# f1\n",
    "#metoda bisekcji\n",
    "println(\"########### f1 ###########\")\n",
    "val, _, _, _ = mbisekcji(f1, 0.2 , 2.4, d, e)\n",
    "println(\"metoda bisekcji, f1 \", mbisekcji(f1, 0.2 , 2.4, d, e), \" wartość oczekiwana = 1.0\", \"\\nBłąd bezwzględny = \", abs(val - 1.0))\n",
    "println()\n",
    "\n",
    "#metoda Newtona\n",
    "val, _, _, _ = mstycznych(f1, pf1, -0.6, d, e, maxit)\n",
    "println(\"metoda stycznych, f1\", mstycznych(f1, pf1, -0.6, d, e, maxit), \" wartość oczekiwana = 1.0\", \"\\nBłąd bezwzględny = \", abs(val - 1.0)) \n",
    "println()\n",
    "\n",
    "#metoda siecznych\n",
    "val, _, _, _ = msiecznych(f1, -0.6, -0.8, d, e, maxit)\n",
    "println(\"metoda siecznych, f1\", msiecznych(f1, -0.6, -0.8, d, e, maxit), \" wartość oczekiwana = 1.0\", \"\\nBłąd bezwzględny = \", abs(val - 1.0)) \n",
    "\n",
    "\n",
    "println(\"\\n########### f2 ###########\")\n",
    "# f2\n",
    "#metoda bisekcji\n",
    "val, _, _, _ = mbisekcji(f2, -1.3 , 1.5, d, e)\n",
    "println(\"metoda bisekcji, f2 \", mbisekcji(f2, -1.3 , 1.5, d, e), \" wartość oczekiwana = 0.0\", \"\\nBłąd bezwzględny = \", abs(val - 0.0))\n",
    "println()\n",
    "\n",
    "#metoda Newtona\n",
    "val, _, _, _ = mstycznych(f2, pf2, -1.0, d, e, maxit)\n",
    "println(\"metoda stycznych, f2 \", mstycznych(f2, pf2, -1.0, d, e, maxit), \" wartość oczekiwana = 0.0\", \"\\nBłąd bezwzględny = \", abs(val - 0.0)) \n",
    "println()\n",
    "\n",
    "#metoda siecznych\n",
    "val, _, _, _ = msiecznych(f2, -1.0, -1.8, d, e, maxit)\n",
    "println(\"metoda siecznych, f2 \", msiecznych(f2, -1.0, -1.8, d, e, maxit), \" wartość oczekiwana = 0.0\", \"\\nBłąd bezwzględny = \", abs(val - 0.0)) \n"
   ]
  },
  {
   "cell_type": "markdown",
   "metadata": {},
   "source": [
    "# Zadanie 6 część II\n",
    "* Sprawdzimy co się stanie gdy w metodzie Newtona dla $f_1$ podstawimy $x_0 \\in (1, \\infty)$,\n",
    "* Sprawdzimy jaki wynik da algorytm gdy dla $f_2$ weźmiemy $x_0 \\gt 1$,\n",
    "* I jaki wynik da wybranie $x_0 = 1$ dla $f_2$."
   ]
  },
  {
   "cell_type": "code",
   "execution_count": 11,
   "metadata": {},
   "outputs": [
    {
     "name": "stdout",
     "output_type": "stream",
     "text": [
      "x0 = 2 (0.9999999810061002, 1.8993900008368314e-8, 4, 0) wartość oczekiwana = 1.0\n",
      "Błąd bezwzględny = 1.899389978632371e-8\n",
      "\n",
      "x0 = 4 (0.9999999995278234, 4.721765201054495e-10, 20, 0) wartość oczekiwana = 1.0\n",
      "Błąd bezwzględny = 4.72176631127752e-10\n",
      "\n",
      "x0 = 6 (-41.4131591025766, 2.629062788988622e18, 100, 1) wartość oczekiwana = 1.0\n",
      "Błąd bezwzględny = 42.4131591025766\n",
      "\n"
     ]
    }
   ],
   "source": [
    "# pierwszy podpunkt\n",
    "val, _, _, _ = mstycznych(f1, pf1, 2.0, d, e, maxit)\n",
    "println(\"x0 = 2 \", mstycznych(f1, pf1, 2.0, d, e, maxit), \" wartość oczekiwana = 1.0\", \"\\nBłąd bezwzględny = \", abs(val - 1.0)) \n",
    "println()\n",
    "\n",
    "val, _, _, _ = mstycznych(f1, pf1, 4.0, d, e, maxit)\n",
    "println(\"x0 = 4 \", mstycznych(f1, pf1, 4.0, d, e, maxit), \" wartość oczekiwana = 1.0\", \"\\nBłąd bezwzględny = \", abs(val - 1.0)) \n",
    "println()\n",
    "\n",
    "val, _, _, _ = mstycznych(f1, pf1, 6.0, d, e, maxit)\n",
    "println(\"x0 = 6 \", mstycznych(f1, pf1, 6.0, d, e, maxit), \" wartość oczekiwana = 1.0\", \"\\nBłąd bezwzględny = \", abs(val - 1.0)) \n",
    "println()"
   ]
  },
  {
   "cell_type": "markdown",
   "metadata": {},
   "source": [
    "Wraz ze wzrostem $x_0$ rośnie liczba iteracji niezbędna do zaspokojenia warunku końca. Dla $x \\geq 4$ wykres funkcji jest niemal równoległy do osi odciętych co powoduje, że branie stycznej do wykresu w $x \\geq 4$ bardzo oddala punkt przeciecią z osią odciętych od środka układu współrzędnych. Im dalej punkt startowy na prawo tym więcej iteracji będzie potrzebnych aby znaleźć miejsce zerowe. Już dla $x_0 = 6$, 100 iteracji to za mało aby je znaleźć."
   ]
  },
  {
   "cell_type": "code",
   "execution_count": 12,
   "metadata": {},
   "outputs": [
    {
     "name": "stdout",
     "output_type": "stream",
     "text": [
      "x0 = 1.1 (12.09999999999999, 6.727011022396732e-5, 1, 2) wartość oczekiwana = 0.0\n",
      "Błąd bezwzględny = 12.09999999999999\n",
      "\n",
      "x0 = 2 (12.228417566135983, 5.979102365781934e-5, 8, 2) wartość oczekiwana = 0.0\n",
      "Błąd bezwzględny = 12.228417566135983\n",
      "\n",
      "x0 = 3 (12.622712427403389, 4.1608143088697865e-5, 8, 2) wartość oczekiwana = 0.0\n",
      "Błąd bezwzględny = 12.622712427403389\n",
      "\n",
      "x0 = 4 (12.228417566135983, 5.979102365781934e-5, 7, 2) wartość oczekiwana = 0.0\n",
      "Błąd bezwzględny = 12.228417566135983\n",
      "\n"
     ]
    }
   ],
   "source": [
    "# drugi podpunkt\n",
    "val, _, _, _ = mstycznych(f2, pf2, 1.1, d, e, maxit)\n",
    "println(\"x0 = 1.1 \", mstycznych(f2, pf2, 1.1, d, e, maxit), \" wartość oczekiwana = 0.0\", \"\\nBłąd bezwzględny = \", abs(val - 0.0)) \n",
    "println()\n",
    "\n",
    "val, _, _, _ = mstycznych(f2, pf2, 2.0, d, e, maxit)\n",
    "println(\"x0 = 2 \", mstycznych(f2, pf2, 2.0, d, e, maxit), \" wartość oczekiwana = 0.0\", \"\\nBłąd bezwzględny = \", abs(val - 0.0)) \n",
    "println()\n",
    "\n",
    "val, _, _, _ = mstycznych(f2, pf2, 3.0, d, e, maxit)\n",
    "println(\"x0 = 3 \", mstycznych(f2, pf2, 3.0, d, e, maxit), \" wartość oczekiwana = 0.0\", \"\\nBłąd bezwzględny = \", abs(val - 0.0)) \n",
    "println()\n",
    "\n",
    "val, _, _, _ = mstycznych(f2, pf2, 4.0, d, e, maxit)\n",
    "println(\"x0 = 4 \", mstycznych(f2, pf2, 4.0, d, e, maxit), \" wartość oczekiwana = 0.0\", \"\\nBłąd bezwzględny = \", abs(val - 0.0)) \n",
    "println()"
   ]
  },
  {
   "cell_type": "markdown",
   "metadata": {},
   "source": [
    "Wzięcie za punkt początkowy $x_0 \\gt 1$ powoduje, że metoda szuka zera funkcji na prawo od ekstremum lokalnego, co nigdy się nie uda ponieważ $f_2$ dąży do $0$ ale nigdy $0$ nie osiąga. Jest to sygnalizowane poprzez komunikat o pochodnej bliskiej zeru, tj. (_, _, _, 2)."
   ]
  },
  {
   "cell_type": "code",
   "execution_count": 13,
   "metadata": {},
   "outputs": [
    {
     "name": "stdout",
     "output_type": "stream",
     "text": [
      "x0 = 1.0 (1.0, 0.36787944117144233, 0, 2) wartość oczekiwana = 0.0\n",
      "Błąd bezwzględny = 1.0\n",
      "\n"
     ]
    }
   ],
   "source": [
    "# trzeci podpunkt\n",
    "val, _, _, _ = mstycznych(f2, pf2, 1.0, d, e, maxit)\n",
    "println(\"x0 = 1.0 \", mstycznych(f2, pf2, 1.0, d, e, maxit), \" wartość oczekiwana = 0.0\", \"\\nBłąd bezwzględny = \", abs(val - 0.0)) \n",
    "println()"
   ]
  },
  {
   "cell_type": "markdown",
   "metadata": {},
   "source": [
    "Nie można wybrać tego punktu jako punktu startowego ponieważ, jest to ekstremum lokalne, tym samym pochodna w tym miejscu jest równa $0$."
   ]
  },
  {
   "cell_type": "markdown",
   "metadata": {},
   "source": [
    "### Komentarze i winioski\n",
    "Druga część zadania ma zwrócić uwagę na to jak źle dobrane parametry początkowe (punkty startowe) mogą dać zupełnie złe wyniki w poprawnie zrealizowanej procedurze.\n",
    "\n",
    "Pomocno jest zobaczenie wykresu funkcji lub zbadanie jej monotoniczności i ekstremów zanim zaczniemy szukać ich miejsc zerowych metodami Newtona i siecznych.\n",
    "\n",
    "Z drugiej strony, trafne dobranie punktów startowych bardzo szybko daje dobre wyniki, a metoda szybko zbiega do akceptowalnych przybliżeń."
   ]
  },
  {
   "cell_type": "code",
   "execution_count": null,
   "metadata": {},
   "outputs": [],
   "source": []
  }
 ],
 "metadata": {
  "kernelspec": {
   "display_name": "Julia 1.5.2",
   "language": "julia",
   "name": "julia-1.5"
  },
  "language_info": {
   "file_extension": ".jl",
   "mimetype": "application/julia",
   "name": "julia",
   "version": "1.5.2"
  }
 },
 "nbformat": 4,
 "nbformat_minor": 4
}
