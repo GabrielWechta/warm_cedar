{
 "cells": [
  {
   "cell_type": "code",
   "execution_count": 1,
   "metadata": {},
   "outputs": [
    {
     "data": {
      "text/plain": [
       "mstycznych (generic function with 1 method)"
      ]
     },
     "execution_count": 1,
     "metadata": {},
     "output_type": "execute_result"
    }
   ],
   "source": [
    "function mstycznych(f, pf, x0::Float64, delta::Float64, epsilon::Float64, maxit::Int)\n",
    "    \"\"\"\n",
    "    Funkcja wykorzystuje metodę Newtona\n",
    "    Dane:\n",
    "    f, pf – funkcją f(x) oraz pochodna f\n",
    "    x0 – przybliżenie początkowe,\n",
    "    delta,epsilon – dokładności obliczeń,\n",
    "    maxit – maksymalna dopuszczalna liczba iteracji.\n",
    "    \n",
    "    Wyniki:\n",
    "    Funkcja mstycznych zwraca krotkę (r,v,it,err). \n",
    "    r – przybliżenie pierwiastka równania f(x) = 0,\n",
    "    v – wartość f(r),\n",
    "    it – liczba wykonanych iteracji,\n",
    "    err – sygnalizacja błędu\n",
    "        0 - metoda zbieżna\n",
    "        1 - nie osiągnięto wymaganej dokładności w maxit iteracji,\n",
    "        2 - pochodna bliska zeru\n",
    "    \"\"\"\n",
    "    near_zero = 0.0001 # dobrałem eksperymentalnie \n",
    "    global v = f(x0) # zmienne globalne, aby móc skorzystać z nich w przypadku przekroczenia maxit\n",
    "    global x1 = 0\n",
    "    if abs(v) < epsilon # pierwsze sprawdzenie, czy jesteśmy wystarczająco blisko\n",
    "        return (x0, v, 0, 0)\n",
    "    end\n",
    "    for k in 0:maxit # główna pętla\n",
    "        if abs(pf(x0)) < near_zero # przypadek pochodnej bliskeij zeru\n",
    "            return (x0, v, k, 2)\n",
    "        end\n",
    "        x1 = x0 - v/pf(x0) # nowy punkt\n",
    "        v = f(x1)\n",
    "        if abs(x1 - x0) < delta || abs(v) < epsilon # poprawny warunek końca\n",
    "            return (x1, v, k, 0)\n",
    "        end\n",
    "        x0 = x1\n",
    "    end\n",
    "    return (x1, v, maxit, 1) # w przypadku przekroczenia dozwolonych iteracji\n",
    "end "
   ]
  },
  {
   "cell_type": "code",
   "execution_count": 9,
   "metadata": {},
   "outputs": [
    {
     "name": "stdout",
     "output_type": "stream",
     "text": [
      "-2.0:\t-1.0\n",
      "-1.9:\t-1.0\n",
      "-1.8:\t-1.0\n",
      "-1.7:\t-1.0\n",
      "-1.6:\t-1.0\n",
      "-1.5:\t-1.0\n",
      "-1.4:\t-1.0\n",
      "-1.3:\t-1.0\n",
      "-1.2:\t-1.0\n",
      "-1.1:\t-1.0\n",
      "-1.0:\t-1.0\n",
      "-0.9:\t-1.0\n",
      "-0.8:\t-1.0\n",
      "-0.7:\t-1.0\n",
      "-0.6:\t-1.0\n",
      "-0.5:\t1.0\n",
      "-0.4:\t-0.0\n",
      "-0.3:\t0.0\n",
      "-0.2:\t0.0\n",
      "-0.1:\t0.0\n",
      "0.0:\t0.0\n",
      "0.1:\t-0.0\n",
      "0.2:\t-0.0\n",
      "0.3:\t0.0\n",
      "0.4:\t0.0\n",
      "0.5:\t-1.0\n",
      "0.6:\t1.0\n",
      "0.7:\t1.0\n",
      "0.8:\t1.0\n",
      "0.9:\t1.0\n",
      "1.0:\t1.0\n",
      "1.1:\t1.0\n",
      "1.2:\t1.0\n",
      "1.3:\t1.0\n",
      "1.4:\t1.0\n",
      "1.5:\t1.0\n",
      "1.6:\t1.0\n",
      "1.7:\t1.0\n",
      "1.8:\t1.0\n",
      "1.9:\t1.0\n",
      "2.0:\t1.0\n"
     ]
    }
   ],
   "source": [
    "f(x) = x^3 - x\n",
    "pf(x) = 3x^2 - 1\n",
    "e = 0.5*10^-10\n",
    "d = 0.5*10^-10\n",
    "maxit = 10\n",
    "\n",
    "x0 = -2.0\n",
    "for x0 in [-2.0, -1.9, -1.8, -1.7, -1.6, -1.5, -1.4, -1.3, -1.2, -1.1, -1.0, -0.9, -0.8, -0.7, -0.6, -0.5, -0.4, -0.3, -0.2, -0.1, 0.0, 0.1, 0.2, 0.3, 0.4, 0.5, 0.6, 0.7, 0.8, 0.9, 1.0, 1.1, 1.2, 1.3, 1.4, 1.5, 1.6, 1.7, 1.8, 1.9, 2.0]\n",
    "    val, _, _, _ = mstycznych(f, pf, x0, d, e, maxit)\n",
    "    println(x0, \":\\t\", round(val))\n",
    "    x0 += 0.1\n",
    "end"
   ]
  },
  {
   "cell_type": "code",
   "execution_count": null,
   "metadata": {},
   "outputs": [],
   "source": []
  }
 ],
 "metadata": {
  "kernelspec": {
   "display_name": "Julia 1.5.2",
   "language": "julia",
   "name": "julia-1.5"
  },
  "language_info": {
   "file_extension": ".jl",
   "mimetype": "application/julia",
   "name": "julia",
   "version": "1.5.2"
  }
 },
 "nbformat": 4,
 "nbformat_minor": 4
}
